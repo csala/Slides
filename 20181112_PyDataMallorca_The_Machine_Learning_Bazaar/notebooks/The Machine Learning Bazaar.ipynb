{
 "cells": [
  {
   "cell_type": "code",
   "execution_count": 1,
   "metadata": {
    "slideshow": {
     "slide_type": "notes"
    }
   },
   "outputs": [
    {
     "data": {
      "text/html": [
       "<style>\n",
       "\n",
       ".rendered_html {\n",
       "  font-size:0.8em;\n",
       "}\n",
       ".rendered_html table, .rendered_html th, .rendered_html tr, .rendered_html td {\n",
       "     font-size: 100%;\n",
       "}\n",
       "\n",
       "</style>\n"
      ],
      "text/plain": [
       "<IPython.core.display.HTML object>"
      ]
     },
     "metadata": {},
     "output_type": "display_data"
    }
   ],
   "source": [
    "%%HTML\n",
    "<style>\n",
    "\n",
    ".rendered_html {\n",
    "  font-size:0.8em;\n",
    "}\n",
    ".rendered_html table, .rendered_html th, .rendered_html tr, .rendered_html td {\n",
    "     font-size: 100%;\n",
    "}\n",
    "\n",
    "</style>"
   ]
  },
  {
   "cell_type": "markdown",
   "metadata": {
    "slideshow": {
     "slide_type": "slide"
    }
   },
   "source": [
    "# The Machine Learning Bazaar\n",
    "\n",
    "## MLBlocks and MLPrimitives\n",
    "\n",
    "### by Carles Sala"
   ]
  },
  {
   "cell_type": "markdown",
   "metadata": {
    "slideshow": {
     "slide_type": "slide"
    }
   },
   "source": [
    "# Carles Sala - Who am I?"
   ]
  },
  {
   "cell_type": "markdown",
   "metadata": {
    "slideshow": {
     "slide_type": "fragment"
    }
   },
   "source": [
    "### CEO @ Pythia\n",
    "<img style=\"width: 600px\" src=\"imgs/pythia.png\">"
   ]
  },
  {
   "cell_type": "markdown",
   "metadata": {
    "slideshow": {
     "slide_type": "fragment"
    }
   },
   "source": [
    "### Researcher @ MIT - DAI-Lab\n",
    "<img style=\"width: 400px\" src=\"imgs/dai-lab.png\">"
   ]
  },
  {
   "cell_type": "markdown",
   "metadata": {
    "slideshow": {
     "slide_type": "slide"
    }
   },
   "source": [
    "# The Problem"
   ]
  },
  {
   "cell_type": "markdown",
   "metadata": {
    "slideshow": {
     "slide_type": "fragment"
    }
   },
   "source": [
    "## Basic Model\n",
    "<img src=\"imgs/estimator.png\"/>"
   ]
  },
  {
   "cell_type": "code",
   "execution_count": 22,
   "metadata": {
    "slideshow": {
     "slide_type": "fragment"
    }
   },
   "outputs": [
    {
     "data": {
      "text/plain": [
       "array([19.73434269, 18.83833357, 35.04896329, 19.56917954, 28.30151468,\n",
       "       10.76531108, 24.02095191, 19.99488184,  7.86085591, 17.03753753])"
      ]
     },
     "execution_count": 22,
     "metadata": {},
     "output_type": "execute_result"
    }
   ],
   "source": [
    "from sklearn.linear_model import LinearRegression\n",
    "from sklearn.datasets import load_boston\n",
    "from sklearn.model_selection import train_test_split\n",
    "\n",
    "dataset = load_boston()\n",
    "\n",
    "X_train, X_test, y_train, y_test = train_test_split(dataset.data, dataset.target)\n",
    "\n",
    "model = LinearRegression()\n",
    "model.fit(X_train, y_train)\n",
    "\n",
    "model.predict(X_test)[0:10]"
   ]
  },
  {
   "cell_type": "markdown",
   "metadata": {
    "slideshow": {
     "slide_type": "slide"
    }
   },
   "source": [
    "## Problem: Multiple steps required"
   ]
  },
  {
   "cell_type": "code",
   "execution_count": 39,
   "metadata": {
    "slideshow": {
     "slide_type": "fragment"
    }
   },
   "outputs": [
    {
     "name": "stdout",
     "output_type": "stream",
     "text": [
      "Input contains NaN, infinity or a value too large for dtype('float64').\n"
     ]
    }
   ],
   "source": [
    "from mit_d3m import load_dataset\n",
    "\n",
    "dataset = load_dataset('196_autoMpg')\n",
    "\n",
    "X_train, X_test, y_train, y_test = train_test_split(dataset.X, dataset.y)\n",
    "\n",
    "try:\n",
    "    model = LinearRegression()\n",
    "    model.fit(X_train, y_train)\n",
    "except Exception as e:\n",
    "    print(e)"
   ]
  },
  {
   "cell_type": "code",
   "execution_count": 26,
   "metadata": {
    "slideshow": {
     "slide_type": "fragment"
    }
   },
   "outputs": [
    {
     "data": {
      "text/plain": [
       "array([16.78450851,  5.38115268, 27.73914297, 25.50780677, 29.35791647,\n",
       "       27.55297534, 25.68492923, 33.5739275 , 28.99014042, 23.69385865])"
      ]
     },
     "execution_count": 26,
     "metadata": {},
     "output_type": "execute_result"
    }
   ],
   "source": [
    "from sklearn.impute import SimpleImputer\n",
    "\n",
    "imputer = SimpleImputer()\n",
    "X_train_clean = imputer.fit_transform(X_train, y_train)\n",
    "\n",
    "model = LinearRegression()\n",
    "model.fit(X_train_clean, y_train)\n",
    "\n",
    "X_test_clean = imputer.transform(X_test)\n",
    "model.predict(X_test_clean)[0:10]"
   ]
  },
  {
   "cell_type": "markdown",
   "metadata": {
    "slideshow": {
     "slide_type": "slide"
    }
   },
   "source": [
    "# Solution: Pipelines\n",
    "\n",
    "<img src=\"imgs/pipeline.png\"/>"
   ]
  },
  {
   "cell_type": "markdown",
   "metadata": {
    "slideshow": {
     "slide_type": "fragment"
    }
   },
   "source": [
    "<img src=\"imgs/pipeline-steps.png\"/>"
   ]
  },
  {
   "cell_type": "markdown",
   "metadata": {
    "slideshow": {
     "slide_type": "slide"
    }
   },
   "source": [
    "# Basic Solution: scikit-learn Pipeline"
   ]
  },
  {
   "cell_type": "code",
   "execution_count": 28,
   "metadata": {
    "slideshow": {
     "slide_type": "fragment"
    }
   },
   "outputs": [],
   "source": [
    "from sklearn.pipeline import Pipeline\n",
    "\n",
    "pipeline = Pipeline([\n",
    "    ('imputer', SimpleImputer()),\n",
    "    ('regression', LinearRegression()),\n",
    "])"
   ]
  },
  {
   "cell_type": "code",
   "execution_count": 29,
   "metadata": {
    "slideshow": {
     "slide_type": "fragment"
    }
   },
   "outputs": [
    {
     "data": {
      "text/plain": [
       "array([16.78450851,  5.38115268, 27.73914297, 25.50780677, 29.35791647,\n",
       "       27.55297534, 25.68492923, 33.5739275 , 28.99014042, 23.69385865])"
      ]
     },
     "execution_count": 29,
     "metadata": {},
     "output_type": "execute_result"
    }
   ],
   "source": [
    "pipeline.fit(X_train, y_train)\n",
    "\n",
    "pipeline.predict(X_test)[0:10]"
   ]
  },
  {
   "cell_type": "markdown",
   "metadata": {
    "slideshow": {
     "slide_type": "slide"
    }
   },
   "source": [
    "# Problems"
   ]
  },
  {
   "cell_type": "markdown",
   "metadata": {
    "slideshow": {
     "slide_type": "fragment"
    }
   },
   "source": [
    "* Multiple Libraries"
   ]
  },
  {
   "cell_type": "markdown",
   "metadata": {
    "slideshow": {
     "slide_type": "fragment"
    }
   },
   "source": [
    "* Hyperparameters"
   ]
  },
  {
   "cell_type": "markdown",
   "metadata": {
    "slideshow": {
     "slide_type": "fragment"
    }
   },
   "source": [
    "* Input/Output Dependencies"
   ]
  },
  {
   "cell_type": "markdown",
   "metadata": {
    "slideshow": {
     "slide_type": "subslide"
    }
   },
   "source": [
    "# Example: Text classification with Keras LSTM model"
   ]
  },
  {
   "cell_type": "markdown",
   "metadata": {
    "slideshow": {
     "slide_type": "fragment"
    }
   },
   "source": [
    "* Figure out the number of classes"
   ]
  },
  {
   "cell_type": "markdown",
   "metadata": {
    "slideshow": {
     "slide_type": "fragment"
    }
   },
   "source": [
    "* Compute the vocabulary length"
   ]
  },
  {
   "cell_type": "markdown",
   "metadata": {
    "slideshow": {
     "slide_type": "fragment"
    }
   },
   "source": [
    "* Tokenize the text"
   ]
  },
  {
   "cell_type": "markdown",
   "metadata": {
    "slideshow": {
     "slide_type": "fragment"
    }
   },
   "source": [
    "* Build the Keras Model"
   ]
  },
  {
   "cell_type": "markdown",
   "metadata": {
    "slideshow": {
     "slide_type": "fragment"
    }
   },
   "source": [
    "* Compile the Keras Model"
   ]
  },
  {
   "cell_type": "markdown",
   "metadata": {
    "slideshow": {
     "slide_type": "slide"
    }
   },
   "source": [
    "# Solution: https://github.com/HDI-Project/MLBlocks"
   ]
  },
  {
   "cell_type": "markdown",
   "metadata": {
    "slideshow": {
     "slide_type": "fragment"
    }
   },
   "source": [
    "<center><img style=\"width: 400px;\" src=\"imgs/mlblocks-logo.png\"/></center>"
   ]
  },
  {
   "cell_type": "markdown",
   "metadata": {
    "slideshow": {
     "slide_type": "fragment"
    }
   },
   "source": [
    "* Supports combining any possible library"
   ]
  },
  {
   "cell_type": "markdown",
   "metadata": {
    "slideshow": {
     "slide_type": "fragment"
    }
   },
   "source": [
    "* Based on JSON specifications"
   ]
  },
  {
   "cell_type": "markdown",
   "metadata": {
    "slideshow": {
     "slide_type": "fragment"
    }
   },
   "source": [
    "* Easy hyperparameter tuning"
   ]
  },
  {
   "cell_type": "markdown",
   "metadata": {
    "slideshow": {
     "slide_type": "fragment"
    }
   },
   "source": [
    "* Complex pipeline configurations"
   ]
  },
  {
   "cell_type": "markdown",
   "metadata": {
    "slideshow": {
     "slide_type": "slide"
    }
   },
   "source": [
    "# MLBlocks: Concepts"
   ]
  },
  {
   "cell_type": "markdown",
   "metadata": {
    "slideshow": {
     "slide_type": "fragment"
    }
   },
   "source": [
    "* Primitives\n",
    "    * Classes or functions\n",
    "    * Initialization arguments\n",
    "    * Tunable hyperparameters\n",
    "    "
   ]
  },
  {
   "cell_type": "markdown",
   "metadata": {
    "slideshow": {
     "slide_type": "fragment"
    }
   },
   "source": [
    "* Pipelines\n",
    "    * List of Primitivies\n",
    "    * Initialization arguments\n",
    "    * Hyperparameter values\n",
    "    "
   ]
  },
  {
   "cell_type": "markdown",
   "metadata": {
    "slideshow": {
     "slide_type": "fragment"
    }
   },
   "source": [
    "* Templates\n",
    "    * List of Primitives\n",
    "    * Initialization arguments\n",
    "    * Tunable hyperparameter ranges"
   ]
  },
  {
   "cell_type": "markdown",
   "metadata": {
    "slideshow": {
     "slide_type": "slide"
    }
   },
   "source": [
    "# MLBlocks Primitive Example - scikit-learn"
   ]
  },
  {
   "cell_type": "code",
   "execution_count": 8,
   "metadata": {
    "slideshow": {
     "slide_type": "fragment"
    }
   },
   "outputs": [
    {
     "name": "stdout",
     "output_type": "stream",
     "text": [
      "{\n",
      "    \"name\": \"sklearn.preprocessing.StandardScaler\",\n",
      "    \"author\": \"Carles Sala <carles@pythiac.com>\",\n",
      "    \"documentation\": \"http://scikit-learn.org/stable/modules/generated/sklearn.preprocessing.StandardScaler.html\",\n",
      "    \"description\": \"Standardize features by removing the mean and scaling to unit variance\",\n",
      "    \"classifiers\": {\n",
      "        \"type\": \"preprocessor\",\n",
      "        \"subtype\": \"transformer\"\n",
      "    },\n",
      "    \"modalities\": [],\n",
      "    \"primitive\": \"sklearn.preprocessing.StandardScaler\",\n",
      "    \"validation_dataset\": \"wine\",\n",
      "    \"fit\": {\n",
      "        \"method\": \"fit\",\n",
      "        \"args\": [\n",
      "            {\n",
      "                \"name\": \"X\",\n",
      "                \"type\": \"ndarray\"\n",
      "            }\n",
      "        ]\n",
      "    },\n",
      "    \"produce\": {\n",
      "        \"method\": \"transform\",\n",
      "        \"args\": [\n",
      "            {\n",
      "                \"name\": \"X\",\n",
      "                \"type\": \"ndarray\"\n",
      "            }\n",
      "        ],\n",
      "        \"output\": [\n",
      "            {\n",
      "                \"name\": \"X\",\n",
      "                \"type\": \"ndarray\"\n",
      "            }\n",
      "        ]\n",
      "    },\n",
      "    \"hyperparameters\": {\n",
      "        \"fixed\": {},\n",
      "        \"tunable\": {\n",
      "            \"with_mean\": {\n",
      "                \"type\": \"bool\",\n",
      "                \"default\": true\n",
      "            },\n",
      "            \"with_std\": {\n",
      "                \"type\": \"bool\",\n",
      "                \"default\": true\n",
      "            }\n",
      "        }\n",
      "    }\n",
      "}\n"
     ]
    }
   ],
   "source": [
    "import json\n",
    "import mlblocks\n",
    "\n",
    "primitive = mlblocks.load_primitive('sklearn.preprocessing.StandardScaler')\n",
    "print(json.dumps(primitive, indent=4))"
   ]
  },
  {
   "cell_type": "markdown",
   "metadata": {
    "slideshow": {
     "slide_type": "slide"
    }
   },
   "source": [
    "# MLBlocks Primitive Example - Simple Function"
   ]
  },
  {
   "cell_type": "code",
   "execution_count": 9,
   "metadata": {
    "slideshow": {
     "slide_type": "fragment"
    }
   },
   "outputs": [
    {
     "name": "stdout",
     "output_type": "stream",
     "text": [
      "{\n",
      "    \"name\": \"keras.applications.mobilenet.preprocess_input\",\n",
      "    \"author\": \"Carles Sala <carles@pythiac.com>\",\n",
      "    \"documentation\": \"https://www.tensorflow.org/api_docs/python/tf/keras/applications/mobilenet/preprocess_input\",\n",
      "    \"description\": \"Preprocesses a tensor or Numpy array encoding a batch of images.\",\n",
      "    \"classifiers\": {\n",
      "        \"type\": \"preprocessor\",\n",
      "        \"subtype\": \"transformer\"\n",
      "    },\n",
      "    \"modalities\": [\n",
      "        \"image\"\n",
      "    ],\n",
      "    \"primitive\": \"keras.applications.mobilenet.preprocess_input\",\n",
      "    \"produce\": {\n",
      "        \"args\": [\n",
      "            {\n",
      "                \"name\": \"X\",\n",
      "                \"keyword\": \"x\",\n",
      "                \"type\": \"ndarray\"\n",
      "            }\n",
      "        ],\n",
      "        \"output\": [\n",
      "            {\n",
      "                \"name\": \"X\",\n",
      "                \"type\": \"ndarray\"\n",
      "            }\n",
      "        ]\n",
      "    },\n",
      "    \"hyperparameters\": {\n",
      "        \"fixed\": {},\n",
      "        \"tunable\": {}\n",
      "    }\n",
      "}\n"
     ]
    }
   ],
   "source": [
    "primitive = mlblocks.load_primitive('keras.applications.mobilenet.preprocess_input')\n",
    "print(json.dumps(primitive, indent=4))"
   ]
  },
  {
   "cell_type": "markdown",
   "metadata": {
    "slideshow": {
     "slide_type": "slide"
    }
   },
   "source": [
    "# MLBlocks Primitive Example - Full Keras Model"
   ]
  },
  {
   "cell_type": "code",
   "execution_count": 10,
   "metadata": {
    "scrolled": false,
    "slideshow": {
     "slide_type": "fragment"
    }
   },
   "outputs": [
    {
     "name": "stdout",
     "output_type": "stream",
     "text": [
      "{\n",
      "    \"name\": \"keras.Sequential.LSTMTextClassifier\",\n",
      "    \"author\": \"Carles Sala <carles@pythiac.com>\",\n",
      "    \"description\": \"keras.Sequential.LSTMTextClassifier\",\n",
      "    \"classifiers\": {\n",
      "        \"type\": \"estimator\",\n",
      "        \"subtype\": \"regressor\"\n",
      "    },\n",
      "    \"modalities\": [\n",
      "        \"text\"\n",
      "    ],\n",
      "    \"primitive\": \"mlprimitives.adapters.keras.Sequential\",\n",
      "    \"fit\": {\n",
      "        \"method\": \"fit\",\n",
      "        \"args\": [\n",
      "            {\n",
      "                \"name\": \"X\",\n",
      "                \"type\": \"ndarray\"\n",
      "            },\n",
      "            {\n",
      "                \"name\": \"y\",\n",
      "                \"type\": \"array\"\n",
      "            },\n",
      "            {\n",
      "                \"name\": \"classes\",\n",
      "                \"type\": \"int\",\n",
      "                \"description\": \"Number of classes\"\n",
      "            },\n",
      "            {\n",
      "                \"name\": \"vocabulary_size\",\n",
      "                \"type\": \"int\",\n",
      "                \"description\": \"vocabulary size + 1: number of known words in input.\"\n",
      "            }\n",
      "        ]\n",
      "    },\n",
      "    \"produce\": {\n",
      "        \"method\": \"predict\",\n",
      "        \"args\": [\n",
      "            {\n",
      "                \"name\": \"X\",\n",
      "                \"type\": \"ndarray\"\n",
      "            }\n",
      "        ],\n",
      "        \"output\": [\n",
      "            {\n",
      "                \"name\": \"y\",\n",
      "                \"type\": \"array\"\n",
      "            }\n",
      "        ]\n",
      "    },\n",
      "    \"hyperparameters\": {\n",
      "        \"fixed\": {\n",
      "            \"input_length\": {\n",
      "                \"type\": \"int\"\n",
      "            },\n",
      "            \"classification\": {\n",
      "                \"type\": \"bool\",\n",
      "                \"default\": true\n",
      "            },\n",
      "            \"conv_activation\": {\n",
      "                \"type\": \"str\",\n",
      "                \"default\": \"relu\"\n",
      "            },\n",
      "            \"dense_activation\": {\n",
      "                \"type\": \"str\",\n",
      "                \"default\": \"softmax\"\n",
      "            },\n",
      "            \"optimizer\": {\n",
      "                \"type\": \"str\",\n",
      "                \"default\": \"keras.optimizers.Adadelta\"\n",
      "            },\n",
      "            \"loss\": {\n",
      "                \"type\": \"str\",\n",
      "                \"default\": \"keras.losses.categorical_crossentropy\"\n",
      "            },\n",
      "            \"metrics\": {\n",
      "                \"type\": \"list\",\n",
      "                \"default\": [\n",
      "                    \"accuracy\"\n",
      "                ]\n",
      "            },\n",
      "            \"epochs\": {\n",
      "                \"type\": \"int\",\n",
      "                \"default\": 10\n",
      "            },\n",
      "            \"layers\": {\n",
      "                \"type\": \"list\",\n",
      "                \"default\": [\n",
      "                    {\n",
      "                        \"class\": \"keras.layers.Embedding\",\n",
      "                        \"parameters\": {\n",
      "                            \"input_dim\": \"vocabulary_size\",\n",
      "                            \"output_dim\": \"embedding_output_dim\",\n",
      "                            \"input_length\": \"input_length\"\n",
      "                        }\n",
      "                    },\n",
      "                    {\n",
      "                        \"class\": \"keras.layers.Dropout\",\n",
      "                        \"parameters\": {\n",
      "                            \"rate\": \"dropout_rate\"\n",
      "                        }\n",
      "                    },\n",
      "                    {\n",
      "                        \"class\": \"keras.layers.Conv1D\",\n",
      "                        \"parameters\": {\n",
      "                            \"filters\": \"embedding_output_dim\",\n",
      "                            \"kernel_size\": \"conv_kernel_size\",\n",
      "                            \"activation\": \"conv_activation\"\n",
      "                        }\n",
      "                    },\n",
      "                    {\n",
      "                        \"class\": \"keras.layers.MaxPooling1D\",\n",
      "                        \"parameters\": {\n",
      "                            \"pool_size\": \"max_pooling_pool_size\"\n",
      "                        }\n",
      "                    },\n",
      "                    {\n",
      "                        \"class\": \"keras.layers.LSTM\",\n",
      "                        \"parameters\": {\n",
      "                            \"units\": \"embedding_output_dim\"\n",
      "                        }\n",
      "                    },\n",
      "                    {\n",
      "                        \"class\": \"keras.layers.Dense\",\n",
      "                        \"parameters\": {\n",
      "                            \"units\": \"classes\",\n",
      "                            \"activation\": \"dense_activation\"\n",
      "                        }\n",
      "                    }\n",
      "                ]\n",
      "            }\n",
      "        },\n",
      "        \"tunable\": {\n",
      "            \"embedding_output_dim\": {\n",
      "                \"type\": \"int\",\n",
      "                \"default\": 100,\n",
      "                \"range\": [\n",
      "                    100,\n",
      "                    500\n",
      "                ]\n",
      "            },\n",
      "            \"dropout_rate\": {\n",
      "                \"type\": \"float\",\n",
      "                \"default\": 0.1,\n",
      "                \"range\": [\n",
      "                    0.1,\n",
      "                    0.75\n",
      "                ]\n",
      "            },\n",
      "            \"conv_kernel_size\": {\n",
      "                \"type\": \"int\",\n",
      "                \"default\": 3,\n",
      "                \"range\": [\n",
      "                    3,\n",
      "                    10\n",
      "                ]\n",
      "            },\n",
      "            \"max_pooling_pool_size\": {\n",
      "                \"type\": \"int\",\n",
      "                \"default\": 2,\n",
      "                \"range\": [\n",
      "                    2,\n",
      "                    10\n",
      "                ]\n",
      "            }\n",
      "        }\n",
      "    }\n",
      "}\n"
     ]
    }
   ],
   "source": [
    "primitive = mlblocks.load_primitive('keras.Sequential.LSTMTextClassifier')\n",
    "print(json.dumps(primitive, indent=4))"
   ]
  },
  {
   "cell_type": "markdown",
   "metadata": {
    "slideshow": {
     "slide_type": "slide"
    }
   },
   "source": [
    "# MLBlocks Example: 20 News Groups"
   ]
  },
  {
   "cell_type": "code",
   "execution_count": 51,
   "metadata": {
    "slideshow": {
     "slide_type": "fragment"
    }
   },
   "outputs": [
    {
     "data": {
      "text/plain": [
       "'From: whaley@sigma.kpc.com (Ken Whaley)\\nSubject: Re: Animation with XPutImage()?\\nIn-Reply-To: dcr@mail.ast.cam.ac.uk\\'s message of Thu, 22 Apr 1993 09:28:30 GMT\\nOrganization: Kubota Pacific Computer Inc.\\n\\t<1993Apr22.092830.2190@infodev.cam.ac.uk>\\nLines: 38\\n\\n| \\n| Shared memory PutImage (also mentioned by nkissebe@delphi.beckman.uiuc.edu,\\n| Nick Kisseberth) looks interesting, but I need someone to point me to some\\n| documentation. Is this method likely to give better results than server-\\n| resident pixmaps? I\\'d also be interested in looking at the XView code\\n| mentioned above...\\n\\nThere is no easy answer to this question: it depends on whether the display\\ndevice can hold pixmaps in off-screen memory, and if so, how efficiently\\nthe server manages these resources (having to deal with limited off-screen\\nmemory is the bane of the server implementor\\'s existence!).  \\n\\nI have worked with graphics devices where the off-screen memory to \\nmain display copy rate eclipses that of the main memory to display copy\\nrate, and with those where the main memory to display is *faster* than\\noff-screen to display (requires only a write to the framebuffer rather\\nthan a read of the F.B. followed by a write)\\n\\nIf your server uses the cfb code or something like it to render into\\npixmaps in CPU main memory, the rates you can get through MIT-SHM are\\nlikely to be equal (maybe a tad slower, depending on your OS\\'s implementation\\nof shared memory) to CopyArea from pixmap to window, which is also then\\njust a copy from CPU main memory to graphics device.\\n\\nOne advanage of MIT-SHM is that if your images are large, you don\\'t end up\\ngrowing the size of the server process to hold them.\\n\\nOne disadvantage of the MIT-SHM is that, in its sample implementation,\\nthere is no provision for elegantly cleaning up the shared memory segments\\nif the client dies a sudden, violent death (e.g., \"kill\").  You have to \\nbe mindful of cluttering up the system with zombie shared memory segments.\\n\\n\\tKen\\n--\\nKenneth Whaley\\t\\t\\t (408) 748-6347\\nKubota Pacific Computer, Inc.\\t Email: whaley@kpc.com\\n2630 Walsh Avenue\\nSanta Clara, CA.  95051\\n'"
      ]
     },
     "execution_count": 51,
     "metadata": {},
     "output_type": "execute_result"
    }
   ],
   "source": [
    "from sklearn.datasets import fetch_20newsgroups\n",
    "\n",
    "dataset = fetch_20newsgroups()\n",
    "X_train, X_test, y_train, y_test = train_test_split(dataset.data, dataset.target)\n",
    "\n",
    "X_train[0]"
   ]
  },
  {
   "cell_type": "markdown",
   "metadata": {
    "slideshow": {
     "slide_type": "subslide"
    }
   },
   "source": [
    "# MLPipeline from JSON"
   ]
  },
  {
   "cell_type": "code",
   "execution_count": 54,
   "metadata": {
    "slideshow": {
     "slide_type": "-"
    }
   },
   "outputs": [],
   "source": [
    "pipeline_dict = {\n",
    "    \"primitives\": [\n",
    "        \"mlprimitives.counters.UniqueCounter\",\n",
    "        \"mlprimitives.text.TextCleaner\",\n",
    "        \"mlprimitives.counters.VocabularyCounter\",\n",
    "        \"keras.preprocessing.text.Tokenizer\",\n",
    "        \"keras.preprocessing.sequence.pad_sequences\",\n",
    "        \"keras.Sequential.LSTMTextClassifier\"\n",
    "    ],\n",
    "    \"input_names\": {\n",
    "        \"mlprimitives.counters.UniqueCounter#1\": {\n",
    "            \"X\": \"y\"\n",
    "        }\n",
    "    },\n",
    "    \"output_names\": {\n",
    "        \"mlprimitives.counters.UniqueCounter#1\": {\n",
    "            \"counts\": \"classes\"\n",
    "        },\n",
    "        \"mlprimitives.counters.VocabularyCounter#1\": {\n",
    "            \"counts\": \"vocabulary_size\"\n",
    "        }\n",
    "    },\n",
    "    \"init_params\": {\n",
    "        \"mlprimitives.counters.VocabularyCounter#1\": {\n",
    "            \"add\": 1\n",
    "        },\n",
    "        \"mlprimitives.text.TextCleaner#1\": {\n",
    "            \"language\": \"en\"\n",
    "        },\n",
    "        \"keras.preprocessing.sequence.pad_sequences#1\": {\n",
    "            \"maxlen\": 100\n",
    "        },\n",
    "        \"keras.Sequential.LSTMTextClassifier#1\": {\n",
    "            \"input_length\": 100\n",
    "        }\n",
    "    }\n",
    "}"
   ]
  },
  {
   "cell_type": "markdown",
   "metadata": {
    "slideshow": {
     "slide_type": "subslide"
    }
   },
   "source": [
    "# Create an MLPipeline Instance"
   ]
  },
  {
   "cell_type": "code",
   "execution_count": 55,
   "metadata": {
    "slideshow": {
     "slide_type": "-"
    }
   },
   "outputs": [],
   "source": [
    "from mlblocks import MLPipeline\n",
    "\n",
    "pipeline = MLPipeline.from_dict(pipeline_dict)"
   ]
  },
  {
   "cell_type": "markdown",
   "metadata": {
    "slideshow": {
     "slide_type": "subslide"
    }
   },
   "source": [
    "# Fit"
   ]
  },
  {
   "cell_type": "code",
   "execution_count": 56,
   "metadata": {
    "slideshow": {
     "slide_type": "-"
    }
   },
   "outputs": [
    {
     "name": "stdout",
     "output_type": "stream",
     "text": [
      "Epoch 1/10\n",
      "8485/8485 [==============================] - 36s 4ms/step - loss: 2.9883 - acc: 0.0608\n",
      "Epoch 2/10\n",
      "8485/8485 [==============================] - 36s 4ms/step - loss: 2.6810 - acc: 0.1295\n",
      "Epoch 3/10\n",
      "8485/8485 [==============================] - 36s 4ms/step - loss: 2.1778 - acc: 0.2364\n",
      "Epoch 4/10\n",
      "8485/8485 [==============================] - 36s 4ms/step - loss: 1.6124 - acc: 0.4321\n",
      "Epoch 5/10\n",
      "8485/8485 [==============================] - 36s 4ms/step - loss: 1.0821 - acc: 0.6226\n",
      "Epoch 6/10\n",
      "8485/8485 [==============================] - 36s 4ms/step - loss: 0.7046 - acc: 0.7670\n",
      "Epoch 7/10\n",
      "8485/8485 [==============================] - 36s 4ms/step - loss: 0.4429 - acc: 0.8616\n",
      "Epoch 8/10\n",
      "8485/8485 [==============================] - 36s 4ms/step - loss: 0.2741 - acc: 0.9174\n",
      "Epoch 9/10\n",
      "8485/8485 [==============================] - 36s 4ms/step - loss: 0.1705 - acc: 0.9525\n",
      "Epoch 10/10\n",
      "8485/8485 [==============================] - 36s 4ms/step - loss: 0.1086 - acc: 0.9698\n"
     ]
    }
   ],
   "source": [
    "pipeline.fit(X_train, y_train)"
   ]
  },
  {
   "cell_type": "markdown",
   "metadata": {
    "slideshow": {
     "slide_type": "subslide"
    }
   },
   "source": [
    "# Predict"
   ]
  },
  {
   "cell_type": "code",
   "execution_count": 59,
   "metadata": {
    "slideshow": {
     "slide_type": "-"
    }
   },
   "outputs": [
    {
     "data": {
      "text/plain": [
       "array([ 6,  4, 14, 11, 19])"
      ]
     },
     "execution_count": 59,
     "metadata": {},
     "output_type": "execute_result"
    }
   ],
   "source": [
    "predictions = pipeline.predict(X_test)\n",
    "\n",
    "predictions[0:5]"
   ]
  },
  {
   "cell_type": "markdown",
   "metadata": {
    "slideshow": {
     "slide_type": "slide"
    }
   },
   "source": [
    "# Tunable Hyperparameters"
   ]
  },
  {
   "cell_type": "code",
   "execution_count": 61,
   "metadata": {
    "slideshow": {
     "slide_type": "fragment"
    }
   },
   "outputs": [
    {
     "name": "stdout",
     "output_type": "stream",
     "text": [
      "{\n",
      "    \"mlprimitives.counters.UniqueCounter#1\": {},\n",
      "    \"mlprimitives.text.TextCleaner#1\": {\n",
      "        \"lower\": {\n",
      "            \"type\": \"bool\",\n",
      "            \"default\": true\n",
      "        },\n",
      "        \"accents\": {\n",
      "            \"type\": \"bool\",\n",
      "            \"default\": true\n",
      "        },\n",
      "        \"stopwrods\": {\n",
      "            \"type\": \"bool\",\n",
      "            \"default\": true\n",
      "        },\n",
      "        \"non_alpha\": {\n",
      "            \"type\": \"bool\",\n",
      "            \"default\": true\n",
      "        },\n",
      "        \"single_chars\": {\n",
      "            \"type\": \"bool\",\n",
      "            \"default\": true\n",
      "        }\n",
      "    },\n",
      "    \"mlprimitives.counters.VocabularyCounter#1\": {},\n",
      "    \"keras.preprocessing.text.Tokenizer#1\": {\n",
      "        \"num_words\": {\n",
      "            \"type\": \"int\",\n",
      "            \"default\": null,\n",
      "            \"range\": [\n",
      "                1,\n",
      "                10000\n",
      "            ]\n",
      "        },\n",
      "        \"lower\": {\n",
      "            \"type\": \"bool\",\n",
      "            \"default\": true\n",
      "        },\n",
      "        \"char_level\": {\n",
      "            \"type\": \"bool\",\n",
      "            \"default\": false\n",
      "        }\n",
      "    },\n",
      "    \"keras.preprocessing.sequence.pad_sequences#1\": {\n",
      "        \"padding\": {\n",
      "            \"type\": \"str\",\n",
      "            \"default\": \"pre\",\n",
      "            \"values\": [\n",
      "                \"pre\",\n",
      "                \"post\"\n",
      "            ]\n",
      "        },\n",
      "        \"truncating\": {\n",
      "            \"type\": \"str\",\n",
      "            \"default\": \"pre\",\n",
      "            \"values\": [\n",
      "                \"pre\",\n",
      "                \"post\"\n",
      "            ]\n",
      "        }\n",
      "    },\n",
      "    \"keras.Sequential.LSTMTextClassifier#1\": {\n",
      "        \"embedding_output_dim\": {\n",
      "            \"type\": \"int\",\n",
      "            \"default\": 100,\n",
      "            \"range\": [\n",
      "                100,\n",
      "                500\n",
      "            ]\n",
      "        },\n",
      "        \"dropout_rate\": {\n",
      "            \"type\": \"float\",\n",
      "            \"default\": 0.1,\n",
      "            \"range\": [\n",
      "                0.1,\n",
      "                0.75\n",
      "            ]\n",
      "        },\n",
      "        \"conv_kernel_size\": {\n",
      "            \"type\": \"int\",\n",
      "            \"default\": 3,\n",
      "            \"range\": [\n",
      "                3,\n",
      "                10\n",
      "            ]\n",
      "        },\n",
      "        \"max_pooling_pool_size\": {\n",
      "            \"type\": \"int\",\n",
      "            \"default\": 2,\n",
      "            \"range\": [\n",
      "                2,\n",
      "                10\n",
      "            ]\n",
      "        }\n",
      "    }\n",
      "}\n"
     ]
    }
   ],
   "source": [
    "import json\n",
    "\n",
    "print(json.dumps(pipeline.get_tunable_hyperparameters(), indent=4))"
   ]
  },
  {
   "cell_type": "markdown",
   "metadata": {
    "slideshow": {
     "slide_type": "slide"
    }
   },
   "source": [
    "# But, where are the primitives?"
   ]
  },
  {
   "cell_type": "markdown",
   "metadata": {
    "slideshow": {
     "slide_type": "fragment"
    }
   },
   "source": [
    "## MLPrimitives: https://github.com/HDI-Project/MLPrimitives"
   ]
  },
  {
   "cell_type": "markdown",
   "metadata": {
    "slideshow": {
     "slide_type": "fragment"
    }
   },
   "source": [
    "## We need contributors!"
   ]
  },
  {
   "cell_type": "markdown",
   "metadata": {
    "slideshow": {
     "slide_type": "slide"
    }
   },
   "source": [
    "# References\n",
    "\n",
    "* MLBlocks: https://github.com/HDI-Project/MLBlocks\n",
    "* MLPrimitives: https://github.com/HDI-Project/MLPrimitives\n",
    "* BTB: https://github.com/HDI-Project/BTB\n",
    "* Featuretools: https://www.featuretools.com\n",
    "\n",
    "* Pythia Consulting: https://www.pythiac.com\n",
    "* DAI-Lab: https://dai.lids.mit.edu"
   ]
  },
  {
   "cell_type": "markdown",
   "metadata": {
    "slideshow": {
     "slide_type": "fragment"
    }
   },
   "source": [
    "# Questions?"
   ]
  },
  {
   "cell_type": "markdown",
   "metadata": {
    "slideshow": {
     "slide_type": "slide"
    }
   },
   "source": [
    "# Contact\n",
    "\n",
    "* e-mail:\n",
    "    * carles@pythiac.com\n",
    "    * csala@csail.mit.edu\n",
    "* Twitter:\n",
    "    * [twitter.com/_xals](https://twitter.com/_xals)"
   ]
  },
  {
   "cell_type": "markdown",
   "metadata": {
    "slideshow": {
     "slide_type": "fragment"
    }
   },
   "source": [
    "# Thank You!"
   ]
  }
 ],
 "metadata": {
  "celltoolbar": "Slideshow",
  "kernelspec": {
   "display_name": "Python 3",
   "language": "python",
   "name": "python3"
  },
  "language_info": {
   "codemirror_mode": {
    "name": "ipython",
    "version": 3
   },
   "file_extension": ".py",
   "mimetype": "text/x-python",
   "name": "python",
   "nbconvert_exporter": "python",
   "pygments_lexer": "ipython3",
   "version": "3.6.7"
  }
 },
 "nbformat": 4,
 "nbformat_minor": 2
}
