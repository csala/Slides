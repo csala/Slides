{
 "cells": [
  {
   "cell_type": "markdown",
   "metadata": {
    "deletable": true,
    "editable": true
   },
   "source": [
    "<br><br><br><br>\n",
    "<h1 style=\"font-size: 80px; text-align:center\">\n",
    " Kung-Fu Pandas\n",
    "</h1>\n",
    "<img src=\"img/kfpandas3.jpg\" alt=\"This should be a panda image... :(\" style=\"width: 900px;\"/>\n",
    "<br><br><br><br><br><br><br><br>"
   ]
  },
  {
   "cell_type": "markdown",
   "metadata": {
    "deletable": true,
    "editable": true
   },
   "source": [
    "<br><br><br><br><br><br><br><br>\n",
    "\n",
    "<h1 style=\"text-align: center\">About me</h1>\n",
    "\n",
    "---\n",
    "\n",
    "### Carles Sala Cladellas\n",
    "\n",
    "<div style=\"float:right\">\n",
    "<img src=\"img/kfpandas1.jpg\" style=\"width: 400px;\">\n",
    "</div>\n",
    "\n",
    "<br>\n",
    "\n",
    "Mathematician\n",
    "\n",
    "Data Scientist\n",
    "\n",
    "Pythonista\n",
    "  \n",
    "<br><br>\n",
    "\n",
    "Twitter: @_xals\n",
    "\n",
    "github: csala\n",
    "\n",
    "LinkedIn: carlessalacladellas\n",
    "\n",
    "e-mail: carles@þythiac.com\n",
    "\n",
    "<br><br><br><br><br><br><br><br>\n",
    "<br><br><br><br><br><br><br><br>"
   ]
  },
  {
   "cell_type": "markdown",
   "metadata": {
    "deletable": true,
    "editable": true
   },
   "source": [
    "<br><br><br><br><br><br><br><br>\n",
    "\n",
    "---\n",
    "\n",
    "<br>\n",
    "\n",
    "<div style=\"float:center\">\n",
    "<img src=\"img/pythia_team_2.png\" style=\"width:600px;\">\n",
    "</div>\n",
    "\n",
    "<br><br><br>\n",
    "\n",
    "<p style=\"text-align: center\">Web: https://www.pythiac.com<p>\n",
    "\n",
    "<p style=\"text-align: center\">Twitter: @pythiac_com<p>\n",
    "\n",
    "<br><br><br><br><br><br><br><br>"
   ]
  },
  {
   "cell_type": "markdown",
   "metadata": {
    "deletable": true,
    "editable": true
   },
   "source": [
    "## 1. Data Loading"
   ]
  },
  {
   "cell_type": "markdown",
   "metadata": {},
   "source": [
    "Let's start by loading some data into a `pandas.DataFrame`.\n",
    "\n",
    "In particular, we are loading a small sample of GeoLocation records extracted from a mobile App."
   ]
  },
  {
   "cell_type": "code",
   "execution_count": 1,
   "metadata": {
    "collapsed": false,
    "deletable": true,
    "editable": true
   },
   "outputs": [],
   "source": [
    "import pandas as pd\n",
    "\n",
    "df = pd.read_csv('location_data.csv')"
   ]
  },
  {
   "cell_type": "markdown",
   "metadata": {
    "deletable": true,
    "editable": true
   },
   "source": [
    "## 2. Basic Exploration\n",
    "\n",
    "* shape\n",
    "* head"
   ]
  },
  {
   "cell_type": "markdown",
   "metadata": {},
   "source": [
    "Here comes the first question: How much data have we loaded?\n",
    "\n",
    "Let's see it:"
   ]
  },
  {
   "cell_type": "code",
   "execution_count": 2,
   "metadata": {
    "collapsed": false,
    "deletable": true,
    "editable": true
   },
   "outputs": [
    {
     "data": {
      "text/plain": [
       "(100000, 8)"
      ]
     },
     "execution_count": 2,
     "metadata": {},
     "output_type": "execute_result"
    }
   ],
   "source": [
    "df.shape"
   ]
  },
  {
   "cell_type": "markdown",
   "metadata": {},
   "source": [
    "Thats 100.000 Rows, 8 Columns."
   ]
  },
  {
   "cell_type": "markdown",
   "metadata": {},
   "source": [
    "Let's see what the data looks like:"
   ]
  },
  {
   "cell_type": "code",
   "execution_count": 3,
   "metadata": {
    "collapsed": false,
    "deletable": true,
    "editable": true
   },
   "outputs": [
    {
     "data": {
      "text/html": [
       "<div>\n",
       "<table border=\"1\" class=\"dataframe\">\n",
       "  <thead>\n",
       "    <tr style=\"text-align: right;\">\n",
       "      <th></th>\n",
       "      <th>location</th>\n",
       "      <th>os</th>\n",
       "      <th>seentime</th>\n",
       "      <th>uncertainity</th>\n",
       "      <th>id</th>\n",
       "      <th>group</th>\n",
       "      <th>associated_to</th>\n",
       "      <th>activity</th>\n",
       "    </tr>\n",
       "  </thead>\n",
       "  <tbody>\n",
       "    <tr>\n",
       "      <th>0</th>\n",
       "      <td>39.516965269556,2.74673970462</td>\n",
       "      <td>iOS</td>\n",
       "      <td>2017-05-02T18:15:27</td>\n",
       "      <td>30.205378</td>\n",
       "      <td>bd80e20135109920568bb7484ed9f0c6</td>\n",
       "      <td>b229da07034ab6cc3402de6b467c5307</td>\n",
       "      <td>57c1df49f5885aee69d6acf715318c50</td>\n",
       "      <td>0</td>\n",
       "    </tr>\n",
       "    <tr>\n",
       "      <th>1</th>\n",
       "      <td>39.51869921736,2.743578501977</td>\n",
       "      <td>Ellipsis 8</td>\n",
       "      <td>2017-05-02T03:44:21</td>\n",
       "      <td>49.000000</td>\n",
       "      <td>b7ae29a2f97305fc8986c4a9c897cca5</td>\n",
       "      <td>004c6e10de0bd7cd515bac62a3e7d167</td>\n",
       "      <td>3e4f840b447628cc944826669e9fe8c3</td>\n",
       "      <td>0</td>\n",
       "    </tr>\n",
       "    <tr>\n",
       "      <th>2</th>\n",
       "      <td>39.51869921736,2.743578501977</td>\n",
       "      <td>iOS</td>\n",
       "      <td>2017-05-02T10:07:24</td>\n",
       "      <td>49.000000</td>\n",
       "      <td>0b4eb9d8a087ac7c5b80511e3fb3c72a</td>\n",
       "      <td>004c6e10de0bd7cd515bac62a3e7d167</td>\n",
       "      <td>3e4f840b447628cc944826669e9fe8c3</td>\n",
       "      <td>0</td>\n",
       "    </tr>\n",
       "    <tr>\n",
       "      <th>3</th>\n",
       "      <td>39.51869921736,2.743578501977</td>\n",
       "      <td>Android</td>\n",
       "      <td>2017-05-02T19:34:21</td>\n",
       "      <td>49.000000</td>\n",
       "      <td>29a58f30d47f92089090a6947b3066e9</td>\n",
       "      <td>ee977e101abea11848d65a2ba97cf150</td>\n",
       "      <td>3e4f840b447628cc944826669e9fe8c3</td>\n",
       "      <td>0</td>\n",
       "    </tr>\n",
       "    <tr>\n",
       "      <th>4</th>\n",
       "      <td>39.51869921736,2.743578501977</td>\n",
       "      <td>NaN</td>\n",
       "      <td>2017-05-02T19:25:59</td>\n",
       "      <td>49.000000</td>\n",
       "      <td>5297a0beb4614f85ac42bc715e48869d</td>\n",
       "      <td>004c6e10de0bd7cd515bac62a3e7d167</td>\n",
       "      <td>3e4f840b447628cc944826669e9fe8c3</td>\n",
       "      <td>0</td>\n",
       "    </tr>\n",
       "  </tbody>\n",
       "</table>\n",
       "</div>"
      ],
      "text/plain": [
       "                        location          os             seentime  \\\n",
       "0  39.516965269556,2.74673970462         iOS  2017-05-02T18:15:27   \n",
       "1  39.51869921736,2.743578501977  Ellipsis 8  2017-05-02T03:44:21   \n",
       "2  39.51869921736,2.743578501977         iOS  2017-05-02T10:07:24   \n",
       "3  39.51869921736,2.743578501977     Android  2017-05-02T19:34:21   \n",
       "4  39.51869921736,2.743578501977         NaN  2017-05-02T19:25:59   \n",
       "\n",
       "   uncertainity                                id  \\\n",
       "0     30.205378  bd80e20135109920568bb7484ed9f0c6   \n",
       "1     49.000000  b7ae29a2f97305fc8986c4a9c897cca5   \n",
       "2     49.000000  0b4eb9d8a087ac7c5b80511e3fb3c72a   \n",
       "3     49.000000  29a58f30d47f92089090a6947b3066e9   \n",
       "4     49.000000  5297a0beb4614f85ac42bc715e48869d   \n",
       "\n",
       "                              group                     associated_to  \\\n",
       "0  b229da07034ab6cc3402de6b467c5307  57c1df49f5885aee69d6acf715318c50   \n",
       "1  004c6e10de0bd7cd515bac62a3e7d167  3e4f840b447628cc944826669e9fe8c3   \n",
       "2  004c6e10de0bd7cd515bac62a3e7d167  3e4f840b447628cc944826669e9fe8c3   \n",
       "3  ee977e101abea11848d65a2ba97cf150  3e4f840b447628cc944826669e9fe8c3   \n",
       "4  004c6e10de0bd7cd515bac62a3e7d167  3e4f840b447628cc944826669e9fe8c3   \n",
       "\n",
       "   activity  \n",
       "0         0  \n",
       "1         0  \n",
       "2         0  \n",
       "3         0  \n",
       "4         0  "
      ]
     },
     "execution_count": 3,
     "metadata": {},
     "output_type": "execute_result"
    }
   ],
   "source": [
    "df.head()"
   ]
  },
  {
   "cell_type": "markdown",
   "metadata": {},
   "source": [
    "Wow, this is barely readable!\n",
    "\n",
    "Columns are too wide and we need to scroll to see them all.\n",
    "\n",
    "Let's use our Pandas-Fu knowledge:"
   ]
  },
  {
   "cell_type": "code",
   "execution_count": 4,
   "metadata": {
    "collapsed": false
   },
   "outputs": [
    {
     "data": {
      "text/html": [
       "<div>\n",
       "<table border=\"1\" class=\"dataframe\">\n",
       "  <thead>\n",
       "    <tr style=\"text-align: right;\">\n",
       "      <th></th>\n",
       "      <th>0</th>\n",
       "      <th>1</th>\n",
       "      <th>2</th>\n",
       "    </tr>\n",
       "  </thead>\n",
       "  <tbody>\n",
       "    <tr>\n",
       "      <th>location</th>\n",
       "      <td>39.516965269556,2.74673970462</td>\n",
       "      <td>39.51869921736,2.743578501977</td>\n",
       "      <td>39.51869921736,2.743578501977</td>\n",
       "    </tr>\n",
       "    <tr>\n",
       "      <th>os</th>\n",
       "      <td>iOS</td>\n",
       "      <td>Ellipsis 8</td>\n",
       "      <td>iOS</td>\n",
       "    </tr>\n",
       "    <tr>\n",
       "      <th>seentime</th>\n",
       "      <td>2017-05-02T18:15:27</td>\n",
       "      <td>2017-05-02T03:44:21</td>\n",
       "      <td>2017-05-02T10:07:24</td>\n",
       "    </tr>\n",
       "    <tr>\n",
       "      <th>uncertainity</th>\n",
       "      <td>30.2054</td>\n",
       "      <td>49</td>\n",
       "      <td>49</td>\n",
       "    </tr>\n",
       "    <tr>\n",
       "      <th>id</th>\n",
       "      <td>bd80e20135109920568bb7484ed9f0c6</td>\n",
       "      <td>b7ae29a2f97305fc8986c4a9c897cca5</td>\n",
       "      <td>0b4eb9d8a087ac7c5b80511e3fb3c72a</td>\n",
       "    </tr>\n",
       "    <tr>\n",
       "      <th>group</th>\n",
       "      <td>b229da07034ab6cc3402de6b467c5307</td>\n",
       "      <td>004c6e10de0bd7cd515bac62a3e7d167</td>\n",
       "      <td>004c6e10de0bd7cd515bac62a3e7d167</td>\n",
       "    </tr>\n",
       "    <tr>\n",
       "      <th>associated_to</th>\n",
       "      <td>57c1df49f5885aee69d6acf715318c50</td>\n",
       "      <td>3e4f840b447628cc944826669e9fe8c3</td>\n",
       "      <td>3e4f840b447628cc944826669e9fe8c3</td>\n",
       "    </tr>\n",
       "    <tr>\n",
       "      <th>activity</th>\n",
       "      <td>0</td>\n",
       "      <td>0</td>\n",
       "      <td>0</td>\n",
       "    </tr>\n",
       "  </tbody>\n",
       "</table>\n",
       "</div>"
      ],
      "text/plain": [
       "                                              0  \\\n",
       "location          39.516965269556,2.74673970462   \n",
       "os                                          iOS   \n",
       "seentime                    2017-05-02T18:15:27   \n",
       "uncertainity                            30.2054   \n",
       "id             bd80e20135109920568bb7484ed9f0c6   \n",
       "group          b229da07034ab6cc3402de6b467c5307   \n",
       "associated_to  57c1df49f5885aee69d6acf715318c50   \n",
       "activity                                      0   \n",
       "\n",
       "                                              1  \\\n",
       "location          39.51869921736,2.743578501977   \n",
       "os                                   Ellipsis 8   \n",
       "seentime                    2017-05-02T03:44:21   \n",
       "uncertainity                                 49   \n",
       "id             b7ae29a2f97305fc8986c4a9c897cca5   \n",
       "group          004c6e10de0bd7cd515bac62a3e7d167   \n",
       "associated_to  3e4f840b447628cc944826669e9fe8c3   \n",
       "activity                                      0   \n",
       "\n",
       "                                              2  \n",
       "location          39.51869921736,2.743578501977  \n",
       "os                                          iOS  \n",
       "seentime                    2017-05-02T10:07:24  \n",
       "uncertainity                                 49  \n",
       "id             0b4eb9d8a087ac7c5b80511e3fb3c72a  \n",
       "group          004c6e10de0bd7cd515bac62a3e7d167  \n",
       "associated_to  3e4f840b447628cc944826669e9fe8c3  \n",
       "activity                                      0  "
      ]
     },
     "execution_count": 4,
     "metadata": {},
     "output_type": "execute_result"
    }
   ],
   "source": [
    "df.head(3).T    # Kung-fu Pandas Level 1: Transpose it to make it easier to read!"
   ]
  },
  {
   "cell_type": "markdown",
   "metadata": {
    "deletable": true,
    "editable": true
   },
   "source": [
    "## 3. Datetimes\n",
    "\n",
    "* pd.to_datetime\n",
    "* .dt"
   ]
  },
  {
   "cell_type": "markdown",
   "metadata": {},
   "source": [
    "### Parsing datetimes"
   ]
  },
  {
   "cell_type": "markdown",
   "metadata": {},
   "source": [
    "A very common scenario is that where our DataFrame has some string column that represents a `datetime`."
   ]
  },
  {
   "cell_type": "code",
   "execution_count": 5,
   "metadata": {
    "collapsed": false,
    "deletable": true,
    "editable": true
   },
   "outputs": [
    {
     "data": {
      "text/plain": [
       "0    2017-05-02T18:15:27\n",
       "1    2017-05-02T03:44:21\n",
       "2    2017-05-02T10:07:24\n",
       "3    2017-05-02T19:34:21\n",
       "4    2017-05-02T19:25:59\n",
       "Name: seentime, dtype: object"
      ]
     },
     "execution_count": 5,
     "metadata": {},
     "output_type": "execute_result"
    }
   ],
   "source": [
    "df.seentime.head()"
   ]
  },
  {
   "cell_type": "markdown",
   "metadata": {},
   "source": [
    "In most cases we will want to parse these strings into an actual `datetime` object.\n",
    "\n",
    "Let's try to achieve it using our well known `dateutil.parser`"
   ]
  },
  {
   "cell_type": "code",
   "execution_count": 6,
   "metadata": {
    "collapsed": false,
    "deletable": true,
    "editable": true
   },
   "outputs": [
    {
     "data": {
      "text/plain": [
       "0   2017-05-02 18:15:27\n",
       "1   2017-05-02 03:44:21\n",
       "2   2017-05-02 10:07:24\n",
       "3   2017-05-02 19:34:21\n",
       "4   2017-05-02 19:25:59\n",
       "5   2017-05-02 20:56:05\n",
       "6   2017-05-02 12:05:46\n",
       "7   2017-05-02 07:50:21\n",
       "8   2017-05-02 10:08:54\n",
       "9   2017-05-02 14:26:49\n",
       "Name: seentime, dtype: datetime64[ns]"
      ]
     },
     "execution_count": 6,
     "metadata": {},
     "output_type": "execute_result"
    }
   ],
   "source": [
    "from dateutil import parser\n",
    "\n",
    "df.seentime.apply(parser.parse).head(10)"
   ]
  },
  {
   "cell_type": "markdown",
   "metadata": {},
   "source": [
    "OK. It works, but it's damn slow!"
   ]
  },
  {
   "cell_type": "markdown",
   "metadata": {
    "deletable": true,
    "editable": true
   },
   "source": [
    "### pd.to_datetime\n",
    "\n",
    "Here comes a better solution, integrated into pandas and far faster."
   ]
  },
  {
   "cell_type": "code",
   "execution_count": 7,
   "metadata": {
    "collapsed": false,
    "deletable": true,
    "editable": true
   },
   "outputs": [
    {
     "data": {
      "text/plain": [
       "0   2017-05-02 18:15:27\n",
       "1   2017-05-02 03:44:21\n",
       "2   2017-05-02 10:07:24\n",
       "3   2017-05-02 19:34:21\n",
       "4   2017-05-02 19:25:59\n",
       "5   2017-05-02 20:56:05\n",
       "6   2017-05-02 12:05:46\n",
       "7   2017-05-02 07:50:21\n",
       "8   2017-05-02 10:08:54\n",
       "9   2017-05-02 14:26:49\n",
       "Name: seentime, dtype: datetime64[ns]"
      ]
     },
     "execution_count": 7,
     "metadata": {},
     "output_type": "execute_result"
    }
   ],
   "source": [
    "pd.to_datetime(df.seentime).head(10)"
   ]
  },
  {
   "cell_type": "markdown",
   "metadata": {
    "deletable": true,
    "editable": true
   },
   "source": [
    "Let's overwrite the string column with our datetimes"
   ]
  },
  {
   "cell_type": "code",
   "execution_count": 8,
   "metadata": {
    "collapsed": false,
    "deletable": true,
    "editable": true
   },
   "outputs": [],
   "source": [
    "df['seentime'] = pd.to_datetime(df.seentime)"
   ]
  },
  {
   "cell_type": "markdown",
   "metadata": {},
   "source": [
    "## DType accessor attributes"
   ]
  },
  {
   "cell_type": "markdown",
   "metadata": {
    "deletable": true,
    "editable": true
   },
   "source": [
    "Another common scenario is needing to access an atribute or method from the objects stored in the column."
   ]
  },
  {
   "cell_type": "markdown",
   "metadata": {},
   "source": [
    "For example, let's try to obtain the hour of our freshly created datetime objects:"
   ]
  },
  {
   "cell_type": "code",
   "execution_count": 9,
   "metadata": {
    "collapsed": false,
    "deletable": true,
    "editable": true
   },
   "outputs": [
    {
     "data": {
      "text/plain": [
       "0    18\n",
       "1     3\n",
       "2    10\n",
       "3    19\n",
       "4    19\n",
       "5    20\n",
       "6    12\n",
       "7     7\n",
       "8    10\n",
       "9    14\n",
       "Name: seentime, dtype: int64"
      ]
     },
     "execution_count": 9,
     "metadata": {},
     "output_type": "execute_result"
    }
   ],
   "source": [
    "df.seentime.apply(lambda d: d.hour).head(10)"
   ]
  },
  {
   "cell_type": "markdown",
   "metadata": {},
   "source": [
    "OK, it works. But, again, Pandas gives us a cooler alternative:"
   ]
  },
  {
   "cell_type": "markdown",
   "metadata": {},
   "source": [
    "## Series.dt"
   ]
  },
  {
   "cell_type": "markdown",
   "metadata": {
    "deletable": true,
    "editable": true
   },
   "source": [
    "`pandas.Series` have a special Accessor Attributes which allow us to access the attributes of the type associated to each Series.\n",
    "\n",
    "For example, we can access the `.hour` attribute of our `datetime` objects using the `Series.dt` attribute."
   ]
  },
  {
   "cell_type": "code",
   "execution_count": 10,
   "metadata": {
    "collapsed": false,
    "deletable": true,
    "editable": true
   },
   "outputs": [
    {
     "data": {
      "text/plain": [
       "0    18\n",
       "1     3\n",
       "2    10\n",
       "3    19\n",
       "4    19\n",
       "5    20\n",
       "6    12\n",
       "7     7\n",
       "8    10\n",
       "9    14\n",
       "Name: seentime, dtype: int64"
      ]
     },
     "execution_count": 10,
     "metadata": {},
     "output_type": "execute_result"
    }
   ],
   "source": [
    "df.seentime.dt.hour. head(10)"
   ]
  },
  {
   "cell_type": "markdown",
   "metadata": {},
   "source": [
    "With this trick, we can easily and efficiently do do things like this:"
   ]
  },
  {
   "cell_type": "code",
   "execution_count": 11,
   "metadata": {
    "collapsed": true,
    "deletable": true,
    "editable": true
   },
   "outputs": [],
   "source": [
    "df['year'] = df.seentime.dt.year\n",
    "df['month'] = df.seentime.dt.month\n",
    "df['day'] = df.seentime.dt.day\n",
    "df['hour'] = df.seentime.dt.hour\n",
    "df['minute'] = df.seentime.dt.minute\n",
    "df['second'] = df.seentime.dt.second"
   ]
  },
  {
   "cell_type": "code",
   "execution_count": 12,
   "metadata": {
    "collapsed": false,
    "deletable": true,
    "editable": true
   },
   "outputs": [
    {
     "data": {
      "text/html": [
       "<div>\n",
       "<table border=\"1\" class=\"dataframe\">\n",
       "  <thead>\n",
       "    <tr style=\"text-align: right;\">\n",
       "      <th></th>\n",
       "      <th>0</th>\n",
       "      <th>1</th>\n",
       "      <th>2</th>\n",
       "    </tr>\n",
       "  </thead>\n",
       "  <tbody>\n",
       "    <tr>\n",
       "      <th>location</th>\n",
       "      <td>39.516965269556,2.74673970462</td>\n",
       "      <td>39.51869921736,2.743578501977</td>\n",
       "      <td>39.51869921736,2.743578501977</td>\n",
       "    </tr>\n",
       "    <tr>\n",
       "      <th>os</th>\n",
       "      <td>iOS</td>\n",
       "      <td>Ellipsis 8</td>\n",
       "      <td>iOS</td>\n",
       "    </tr>\n",
       "    <tr>\n",
       "      <th>seentime</th>\n",
       "      <td>2017-05-02 18:15:27</td>\n",
       "      <td>2017-05-02 03:44:21</td>\n",
       "      <td>2017-05-02 10:07:24</td>\n",
       "    </tr>\n",
       "    <tr>\n",
       "      <th>uncertainity</th>\n",
       "      <td>30.2054</td>\n",
       "      <td>49</td>\n",
       "      <td>49</td>\n",
       "    </tr>\n",
       "    <tr>\n",
       "      <th>id</th>\n",
       "      <td>bd80e20135109920568bb7484ed9f0c6</td>\n",
       "      <td>b7ae29a2f97305fc8986c4a9c897cca5</td>\n",
       "      <td>0b4eb9d8a087ac7c5b80511e3fb3c72a</td>\n",
       "    </tr>\n",
       "    <tr>\n",
       "      <th>group</th>\n",
       "      <td>b229da07034ab6cc3402de6b467c5307</td>\n",
       "      <td>004c6e10de0bd7cd515bac62a3e7d167</td>\n",
       "      <td>004c6e10de0bd7cd515bac62a3e7d167</td>\n",
       "    </tr>\n",
       "    <tr>\n",
       "      <th>associated_to</th>\n",
       "      <td>57c1df49f5885aee69d6acf715318c50</td>\n",
       "      <td>3e4f840b447628cc944826669e9fe8c3</td>\n",
       "      <td>3e4f840b447628cc944826669e9fe8c3</td>\n",
       "    </tr>\n",
       "    <tr>\n",
       "      <th>activity</th>\n",
       "      <td>0</td>\n",
       "      <td>0</td>\n",
       "      <td>0</td>\n",
       "    </tr>\n",
       "    <tr>\n",
       "      <th>year</th>\n",
       "      <td>2017</td>\n",
       "      <td>2017</td>\n",
       "      <td>2017</td>\n",
       "    </tr>\n",
       "    <tr>\n",
       "      <th>month</th>\n",
       "      <td>5</td>\n",
       "      <td>5</td>\n",
       "      <td>5</td>\n",
       "    </tr>\n",
       "    <tr>\n",
       "      <th>day</th>\n",
       "      <td>2</td>\n",
       "      <td>2</td>\n",
       "      <td>2</td>\n",
       "    </tr>\n",
       "    <tr>\n",
       "      <th>hour</th>\n",
       "      <td>18</td>\n",
       "      <td>3</td>\n",
       "      <td>10</td>\n",
       "    </tr>\n",
       "    <tr>\n",
       "      <th>minute</th>\n",
       "      <td>15</td>\n",
       "      <td>44</td>\n",
       "      <td>7</td>\n",
       "    </tr>\n",
       "    <tr>\n",
       "      <th>second</th>\n",
       "      <td>27</td>\n",
       "      <td>21</td>\n",
       "      <td>24</td>\n",
       "    </tr>\n",
       "  </tbody>\n",
       "</table>\n",
       "</div>"
      ],
      "text/plain": [
       "                                              0  \\\n",
       "location          39.516965269556,2.74673970462   \n",
       "os                                          iOS   \n",
       "seentime                    2017-05-02 18:15:27   \n",
       "uncertainity                            30.2054   \n",
       "id             bd80e20135109920568bb7484ed9f0c6   \n",
       "group          b229da07034ab6cc3402de6b467c5307   \n",
       "associated_to  57c1df49f5885aee69d6acf715318c50   \n",
       "activity                                      0   \n",
       "year                                       2017   \n",
       "month                                         5   \n",
       "day                                           2   \n",
       "hour                                         18   \n",
       "minute                                       15   \n",
       "second                                       27   \n",
       "\n",
       "                                              1  \\\n",
       "location          39.51869921736,2.743578501977   \n",
       "os                                   Ellipsis 8   \n",
       "seentime                    2017-05-02 03:44:21   \n",
       "uncertainity                                 49   \n",
       "id             b7ae29a2f97305fc8986c4a9c897cca5   \n",
       "group          004c6e10de0bd7cd515bac62a3e7d167   \n",
       "associated_to  3e4f840b447628cc944826669e9fe8c3   \n",
       "activity                                      0   \n",
       "year                                       2017   \n",
       "month                                         5   \n",
       "day                                           2   \n",
       "hour                                          3   \n",
       "minute                                       44   \n",
       "second                                       21   \n",
       "\n",
       "                                              2  \n",
       "location          39.51869921736,2.743578501977  \n",
       "os                                          iOS  \n",
       "seentime                    2017-05-02 10:07:24  \n",
       "uncertainity                                 49  \n",
       "id             0b4eb9d8a087ac7c5b80511e3fb3c72a  \n",
       "group          004c6e10de0bd7cd515bac62a3e7d167  \n",
       "associated_to  3e4f840b447628cc944826669e9fe8c3  \n",
       "activity                                      0  \n",
       "year                                       2017  \n",
       "month                                         5  \n",
       "day                                           2  \n",
       "hour                                         10  \n",
       "minute                                        7  \n",
       "second                                       24  "
      ]
     },
     "execution_count": 12,
     "metadata": {},
     "output_type": "execute_result"
    }
   ],
   "source": [
    "df.head(3).T"
   ]
  },
  {
   "cell_type": "markdown",
   "metadata": {},
   "source": [
    "## Series.dt.strftime\n",
    "\n",
    "Hey!! Remember that methods are just attributes, so we can also access them!"
   ]
  },
  {
   "cell_type": "code",
   "execution_count": 13,
   "metadata": {
    "collapsed": false,
    "deletable": true,
    "editable": true
   },
   "outputs": [
    {
     "data": {
      "text/plain": [
       "0    02/05/17\n",
       "1    02/05/17\n",
       "2    02/05/17\n",
       "3    02/05/17\n",
       "4    02/05/17\n",
       "5    02/05/17\n",
       "6    02/05/17\n",
       "7    02/05/17\n",
       "8    02/05/17\n",
       "9    02/05/17\n",
       "Name: seentime, dtype: object"
      ]
     },
     "execution_count": 13,
     "metadata": {},
     "output_type": "execute_result"
    }
   ],
   "source": [
    "df.seentime.dt.strftime('%d/%m/%y').head(10)"
   ]
  },
  {
   "cell_type": "markdown",
   "metadata": {},
   "source": [
    "Cool, huh?"
   ]
  },
  {
   "cell_type": "markdown",
   "metadata": {
    "deletable": true,
    "editable": true
   },
   "source": [
    "## Forget about the infamous GroupBy!!!!"
   ]
  },
  {
   "cell_type": "markdown",
   "metadata": {},
   "source": [
    "How many times have we wanted to make a glance at how many times each value appears in a Series?\n",
    "\n",
    "Let's group a Series by its value and then count the number of elements inside each group.\n",
    "\n",
    "And then sort them descendingly to see the more relevant ones first, of course!"
   ]
  },
  {
   "cell_type": "code",
   "execution_count": 14,
   "metadata": {
    "collapsed": false,
    "deletable": true,
    "editable": true
   },
   "outputs": [
    {
     "data": {
      "text/plain": [
       "hour\n",
       "12    6199\n",
       "11    6160\n",
       "8     6110\n",
       "9     6074\n",
       "10    5577\n",
       "7     5342\n",
       "13    5338\n",
       "15    5327\n",
       "16    4770\n",
       "18    4662\n",
       "17    4661\n",
       "19    4325\n",
       "20    3901\n",
       "14    3780\n",
       "6     3727\n",
       "23    3591\n",
       "5     3544\n",
       "21    3352\n",
       "4     2941\n",
       "22    2722\n",
       "0     2143\n",
       "3     1961\n",
       "1     1958\n",
       "2     1835\n",
       "Name: id, dtype: int64"
      ]
     },
     "execution_count": 14,
     "metadata": {},
     "output_type": "execute_result"
    }
   ],
   "source": [
    "df.groupby('hour').id.apply(lambda s: len(s)).sort_values(ascending=False)"
   ]
  },
  {
   "cell_type": "markdown",
   "metadata": {},
   "source": [
    "## .value_counts"
   ]
  },
  {
   "cell_type": "markdown",
   "metadata": {},
   "source": [
    "Some time ago I could write the previous groupby statement with my eyes closed. If I hadn't it on my clipboard!\n",
    "\n",
    "Until I learnt the next trick:"
   ]
  },
  {
   "cell_type": "code",
   "execution_count": 15,
   "metadata": {
    "collapsed": false,
    "deletable": true,
    "editable": true
   },
   "outputs": [
    {
     "data": {
      "text/plain": [
       "12    6199\n",
       "11    6160\n",
       "8     6110\n",
       "9     6074\n",
       "10    5577\n",
       "7     5342\n",
       "13    5338\n",
       "15    5327\n",
       "16    4770\n",
       "18    4662\n",
       "17    4661\n",
       "19    4325\n",
       "20    3901\n",
       "14    3780\n",
       "6     3727\n",
       "23    3591\n",
       "5     3544\n",
       "21    3352\n",
       "4     2941\n",
       "22    2722\n",
       "0     2143\n",
       "3     1961\n",
       "1     1958\n",
       "2     1835\n",
       "Name: hour, dtype: int64"
      ]
     },
     "execution_count": 15,
     "metadata": {},
     "output_type": "execute_result"
    }
   ],
   "source": [
    "df.hour.value_counts()"
   ]
  },
  {
   "cell_type": "markdown",
   "metadata": {},
   "source": [
    "By the way, what good would a hands-on python talk wiithout a timeit?\n",
    "\n",
    "Let's see how faster this solution is compared to the previous one!"
   ]
  },
  {
   "cell_type": "code",
   "execution_count": 16,
   "metadata": {
    "collapsed": false,
    "deletable": true,
    "editable": true
   },
   "outputs": [
    {
     "name": "stdout",
     "output_type": "stream",
     "text": [
      "788 ms ± 1.74 ms per loop (mean ± std. dev. of 7 runs, 1 loop each)\n"
     ]
    }
   ],
   "source": [
    "%%timeit\n",
    "\n",
    "df.groupby('id').id.apply(lambda s: len(s)).sort_values(ascending=False)"
   ]
  },
  {
   "cell_type": "code",
   "execution_count": 17,
   "metadata": {
    "collapsed": false,
    "deletable": true,
    "editable": true
   },
   "outputs": [
    {
     "name": "stdout",
     "output_type": "stream",
     "text": [
      "10.8 ms ± 16 µs per loop (mean ± std. dev. of 7 runs, 100 loops each)\n"
     ]
    }
   ],
   "source": [
    "%%timeit\n",
    "\n",
    "df.id.value_counts()"
   ]
  },
  {
   "cell_type": "markdown",
   "metadata": {},
   "source": [
    "Almost 80 times faster!"
   ]
  },
  {
   "cell_type": "markdown",
   "metadata": {
    "deletable": true,
    "editable": true
   },
   "source": [
    "## Working with strings"
   ]
  },
  {
   "cell_type": "markdown",
   "metadata": {},
   "source": [
    "In our data, the location coordinates are encoded in a single string, separated by a comma."
   ]
  },
  {
   "cell_type": "code",
   "execution_count": 18,
   "metadata": {
    "collapsed": false,
    "deletable": true,
    "editable": true,
    "scrolled": true
   },
   "outputs": [
    {
     "data": {
      "text/plain": [
       "0    39.516965269556,2.74673970462\n",
       "1    39.51869921736,2.743578501977\n",
       "2    39.51869921736,2.743578501977\n",
       "3    39.51869921736,2.743578501977\n",
       "4    39.51869921736,2.743578501977\n",
       "Name: location, dtype: object"
      ]
     },
     "execution_count": 18,
     "metadata": {},
     "output_type": "execute_result"
    }
   ],
   "source": [
    "df.location.head()"
   ]
  },
  {
   "cell_type": "markdown",
   "metadata": {},
   "source": [
    "Let's try to split the string and parse the results into a float value"
   ]
  },
  {
   "cell_type": "code",
   "execution_count": 19,
   "metadata": {
    "collapsed": false,
    "deletable": true,
    "editable": true
   },
   "outputs": [
    {
     "data": {
      "text/plain": [
       "0    [39.516965269556, 2.74673970462]\n",
       "1    [39.51869921736, 2.743578501977]\n",
       "2    [39.51869921736, 2.743578501977]\n",
       "3    [39.51869921736, 2.743578501977]\n",
       "4    [39.51869921736, 2.743578501977]\n",
       "5    [39.51869921736, 2.743578501977]\n",
       "6    [39.51869921736, 2.743578501977]\n",
       "7    [39.51869921736, 2.743578501977]\n",
       "8    [39.51869921736, 2.743578501977]\n",
       "9    [39.51869921736, 2.743578501977]\n",
       "Name: location, dtype: object"
      ]
     },
     "execution_count": 19,
     "metadata": {},
     "output_type": "execute_result"
    }
   ],
   "source": [
    "df.location.apply(lambda x: None if pd.isnull(x) else x.split(',')).head(10)"
   ]
  },
  {
   "cell_type": "markdown",
   "metadata": {},
   "source": [
    "It works, but that one-liner should be almost prohibited by the Python Zen!"
   ]
  },
  {
   "cell_type": "markdown",
   "metadata": {},
   "source": [
    "## .str.split"
   ]
  },
  {
   "cell_type": "markdown",
   "metadata": {},
   "source": [
    "But remember: if we know the type of a column we can access its atributes and methods!\n",
    "\n",
    "Let's try to work this out in a cleaner way."
   ]
  },
  {
   "cell_type": "code",
   "execution_count": 20,
   "metadata": {
    "collapsed": true,
    "deletable": true,
    "editable": true
   },
   "outputs": [],
   "source": [
    "location = df.location.str.split(',')"
   ]
  },
  {
   "cell_type": "code",
   "execution_count": 21,
   "metadata": {
    "collapsed": false,
    "deletable": true,
    "editable": true
   },
   "outputs": [
    {
     "data": {
      "text/plain": [
       "0    [39.516965269556, 2.74673970462]\n",
       "1    [39.51869921736, 2.743578501977]\n",
       "2    [39.51869921736, 2.743578501977]\n",
       "3    [39.51869921736, 2.743578501977]\n",
       "4    [39.51869921736, 2.743578501977]\n",
       "5    [39.51869921736, 2.743578501977]\n",
       "6    [39.51869921736, 2.743578501977]\n",
       "7    [39.51869921736, 2.743578501977]\n",
       "8    [39.51869921736, 2.743578501977]\n",
       "9    [39.51869921736, 2.743578501977]\n",
       "Name: location, dtype: object"
      ]
     },
     "execution_count": 21,
     "metadata": {},
     "output_type": "execute_result"
    }
   ],
   "source": [
    "location.head(10)"
   ]
  },
  {
   "cell_type": "markdown",
   "metadata": {
    "deletable": true,
    "editable": true
   },
   "source": [
    "Much better!\n",
    "\n",
    "Now we can assign each element to a new column:"
   ]
  },
  {
   "cell_type": "code",
   "execution_count": 22,
   "metadata": {
    "collapsed": false,
    "deletable": true,
    "editable": true
   },
   "outputs": [],
   "source": [
    "df['latitude'] = location.str[0]\n",
    "df['longitude'] = location.str[1]"
   ]
  },
  {
   "cell_type": "markdown",
   "metadata": {},
   "source": [
    "**BTW:** Notice how we can also access each element of the list using the `.str` attribute!"
   ]
  },
  {
   "cell_type": "markdown",
   "metadata": {},
   "source": [
    "## .str.split"
   ]
  },
  {
   "cell_type": "markdown",
   "metadata": {},
   "source": [
    "And we have yet another way to do the same as before, which I personally like more:"
   ]
  },
  {
   "cell_type": "code",
   "execution_count": 23,
   "metadata": {
    "collapsed": false,
    "deletable": true,
    "editable": true
   },
   "outputs": [
    {
     "data": {
      "text/html": [
       "<div>\n",
       "<table border=\"1\" class=\"dataframe\">\n",
       "  <thead>\n",
       "    <tr style=\"text-align: right;\">\n",
       "      <th></th>\n",
       "      <th>0</th>\n",
       "      <th>1</th>\n",
       "      <th>2</th>\n",
       "    </tr>\n",
       "  </thead>\n",
       "  <tbody>\n",
       "    <tr>\n",
       "      <th>0</th>\n",
       "      <td>39.516965269556</td>\n",
       "      <td>,</td>\n",
       "      <td>2.74673970462</td>\n",
       "    </tr>\n",
       "    <tr>\n",
       "      <th>1</th>\n",
       "      <td>39.51869921736</td>\n",
       "      <td>,</td>\n",
       "      <td>2.743578501977</td>\n",
       "    </tr>\n",
       "    <tr>\n",
       "      <th>2</th>\n",
       "      <td>39.51869921736</td>\n",
       "      <td>,</td>\n",
       "      <td>2.743578501977</td>\n",
       "    </tr>\n",
       "    <tr>\n",
       "      <th>3</th>\n",
       "      <td>39.51869921736</td>\n",
       "      <td>,</td>\n",
       "      <td>2.743578501977</td>\n",
       "    </tr>\n",
       "    <tr>\n",
       "      <th>4</th>\n",
       "      <td>39.51869921736</td>\n",
       "      <td>,</td>\n",
       "      <td>2.743578501977</td>\n",
       "    </tr>\n",
       "  </tbody>\n",
       "</table>\n",
       "</div>"
      ],
      "text/plain": [
       "                 0  1               2\n",
       "0  39.516965269556  ,   2.74673970462\n",
       "1   39.51869921736  ,  2.743578501977\n",
       "2   39.51869921736  ,  2.743578501977\n",
       "3   39.51869921736  ,  2.743578501977\n",
       "4   39.51869921736  ,  2.743578501977"
      ]
     },
     "execution_count": 23,
     "metadata": {},
     "output_type": "execute_result"
    }
   ],
   "source": [
    "location = df.location.str.partition(',')\n",
    "location.head()"
   ]
  },
  {
   "cell_type": "code",
   "execution_count": 24,
   "metadata": {
    "collapsed": false,
    "deletable": true,
    "editable": true
   },
   "outputs": [],
   "source": [
    "df.latitude = location[0]\n",
    "df.longitude = location[2]"
   ]
  },
  {
   "cell_type": "markdown",
   "metadata": {
    "deletable": true,
    "editable": true
   },
   "source": [
    "# Shift\n",
    " "
   ]
  },
  {
   "cell_type": "markdown",
   "metadata": {},
   "source": [
    "Here comes a real `pandas` beast, the `.shift` method.\n",
    "\n",
    "Lets put some context: Our data has a value `id` which identifies a single mobile phone, and a value `associated_to` which identifies the zone where the mobile can be found in a precise instant.\n",
    "Each row of the dataframe corresponds to a single time that the user has performed a specific action in their phone.\n",
    "\n",
    "Now let's suppose that we want to identify the number of times that a single phone has been in a specific zone.\n",
    "Let's call this event, being in a zone, a session: the user starts a session every time that he enters a new zone and does not start a new session until it leaves it. And, of course, if later on he comes back to the original source he starts yet a new session!\n",
    "\n",
    "So, considering that each user can perform the action many times within a session, we will have many rows per session. Rows that we need to group together in some way to be able to count the number of groups that we have.\n",
    "\n",
    "Let's do it!"
   ]
  },
  {
   "cell_type": "code",
   "execution_count": 25,
   "metadata": {
    "collapsed": false,
    "deletable": true,
    "editable": true
   },
   "outputs": [
    {
     "data": {
      "text/html": [
       "<div>\n",
       "<table border=\"1\" class=\"dataframe\">\n",
       "  <thead>\n",
       "    <tr style=\"text-align: right;\">\n",
       "      <th></th>\n",
       "      <th>0</th>\n",
       "      <th>1</th>\n",
       "      <th>2</th>\n",
       "    </tr>\n",
       "  </thead>\n",
       "  <tbody>\n",
       "    <tr>\n",
       "      <th>location</th>\n",
       "      <td>39.516965269556,2.74673970462</td>\n",
       "      <td>39.51869921736,2.743578501977</td>\n",
       "      <td>39.51869921736,2.743578501977</td>\n",
       "    </tr>\n",
       "    <tr>\n",
       "      <th>os</th>\n",
       "      <td>iOS</td>\n",
       "      <td>Ellipsis 8</td>\n",
       "      <td>iOS</td>\n",
       "    </tr>\n",
       "    <tr>\n",
       "      <th>seentime</th>\n",
       "      <td>2017-05-02 18:15:27</td>\n",
       "      <td>2017-05-02 03:44:21</td>\n",
       "      <td>2017-05-02 10:07:24</td>\n",
       "    </tr>\n",
       "    <tr>\n",
       "      <th>uncertainity</th>\n",
       "      <td>30.2054</td>\n",
       "      <td>49</td>\n",
       "      <td>49</td>\n",
       "    </tr>\n",
       "    <tr>\n",
       "      <th>id</th>\n",
       "      <td>bd80e20135109920568bb7484ed9f0c6</td>\n",
       "      <td>b7ae29a2f97305fc8986c4a9c897cca5</td>\n",
       "      <td>0b4eb9d8a087ac7c5b80511e3fb3c72a</td>\n",
       "    </tr>\n",
       "    <tr>\n",
       "      <th>group</th>\n",
       "      <td>b229da07034ab6cc3402de6b467c5307</td>\n",
       "      <td>004c6e10de0bd7cd515bac62a3e7d167</td>\n",
       "      <td>004c6e10de0bd7cd515bac62a3e7d167</td>\n",
       "    </tr>\n",
       "    <tr>\n",
       "      <th>associated_to</th>\n",
       "      <td>57c1df49f5885aee69d6acf715318c50</td>\n",
       "      <td>3e4f840b447628cc944826669e9fe8c3</td>\n",
       "      <td>3e4f840b447628cc944826669e9fe8c3</td>\n",
       "    </tr>\n",
       "    <tr>\n",
       "      <th>activity</th>\n",
       "      <td>0</td>\n",
       "      <td>0</td>\n",
       "      <td>0</td>\n",
       "    </tr>\n",
       "    <tr>\n",
       "      <th>year</th>\n",
       "      <td>2017</td>\n",
       "      <td>2017</td>\n",
       "      <td>2017</td>\n",
       "    </tr>\n",
       "    <tr>\n",
       "      <th>month</th>\n",
       "      <td>5</td>\n",
       "      <td>5</td>\n",
       "      <td>5</td>\n",
       "    </tr>\n",
       "    <tr>\n",
       "      <th>day</th>\n",
       "      <td>2</td>\n",
       "      <td>2</td>\n",
       "      <td>2</td>\n",
       "    </tr>\n",
       "    <tr>\n",
       "      <th>hour</th>\n",
       "      <td>18</td>\n",
       "      <td>3</td>\n",
       "      <td>10</td>\n",
       "    </tr>\n",
       "    <tr>\n",
       "      <th>minute</th>\n",
       "      <td>15</td>\n",
       "      <td>44</td>\n",
       "      <td>7</td>\n",
       "    </tr>\n",
       "    <tr>\n",
       "      <th>second</th>\n",
       "      <td>27</td>\n",
       "      <td>21</td>\n",
       "      <td>24</td>\n",
       "    </tr>\n",
       "    <tr>\n",
       "      <th>latitude</th>\n",
       "      <td>39.516965269556</td>\n",
       "      <td>39.51869921736</td>\n",
       "      <td>39.51869921736</td>\n",
       "    </tr>\n",
       "    <tr>\n",
       "      <th>longitude</th>\n",
       "      <td>2.74673970462</td>\n",
       "      <td>2.743578501977</td>\n",
       "      <td>2.743578501977</td>\n",
       "    </tr>\n",
       "  </tbody>\n",
       "</table>\n",
       "</div>"
      ],
      "text/plain": [
       "                                              0  \\\n",
       "location          39.516965269556,2.74673970462   \n",
       "os                                          iOS   \n",
       "seentime                    2017-05-02 18:15:27   \n",
       "uncertainity                            30.2054   \n",
       "id             bd80e20135109920568bb7484ed9f0c6   \n",
       "group          b229da07034ab6cc3402de6b467c5307   \n",
       "associated_to  57c1df49f5885aee69d6acf715318c50   \n",
       "activity                                      0   \n",
       "year                                       2017   \n",
       "month                                         5   \n",
       "day                                           2   \n",
       "hour                                         18   \n",
       "minute                                       15   \n",
       "second                                       27   \n",
       "latitude                        39.516965269556   \n",
       "longitude                         2.74673970462   \n",
       "\n",
       "                                              1  \\\n",
       "location          39.51869921736,2.743578501977   \n",
       "os                                   Ellipsis 8   \n",
       "seentime                    2017-05-02 03:44:21   \n",
       "uncertainity                                 49   \n",
       "id             b7ae29a2f97305fc8986c4a9c897cca5   \n",
       "group          004c6e10de0bd7cd515bac62a3e7d167   \n",
       "associated_to  3e4f840b447628cc944826669e9fe8c3   \n",
       "activity                                      0   \n",
       "year                                       2017   \n",
       "month                                         5   \n",
       "day                                           2   \n",
       "hour                                          3   \n",
       "minute                                       44   \n",
       "second                                       21   \n",
       "latitude                         39.51869921736   \n",
       "longitude                        2.743578501977   \n",
       "\n",
       "                                              2  \n",
       "location          39.51869921736,2.743578501977  \n",
       "os                                          iOS  \n",
       "seentime                    2017-05-02 10:07:24  \n",
       "uncertainity                                 49  \n",
       "id             0b4eb9d8a087ac7c5b80511e3fb3c72a  \n",
       "group          004c6e10de0bd7cd515bac62a3e7d167  \n",
       "associated_to  3e4f840b447628cc944826669e9fe8c3  \n",
       "activity                                      0  \n",
       "year                                       2017  \n",
       "month                                         5  \n",
       "day                                           2  \n",
       "hour                                         10  \n",
       "minute                                        7  \n",
       "second                                       24  \n",
       "latitude                         39.51869921736  \n",
       "longitude                        2.743578501977  "
      ]
     },
     "execution_count": 25,
     "metadata": {},
     "output_type": "execute_result"
    }
   ],
   "source": [
    "df.head(3).T"
   ]
  },
  {
   "cell_type": "markdown",
   "metadata": {},
   "source": [
    "First let's create a single identifier, `sdesc` (Session Descriptor) joining the `id` and the `associated_to` fields."
   ]
  },
  {
   "cell_type": "code",
   "execution_count": 26,
   "metadata": {
    "collapsed": false,
    "deletable": true,
    "editable": true
   },
   "outputs": [
    {
     "data": {
      "text/plain": [
       "0    bd80e20135109920568bb7484ed9f0c657c1df49f5885a...\n",
       "1    b7ae29a2f97305fc8986c4a9c897cca53e4f840b447628...\n",
       "2    0b4eb9d8a087ac7c5b80511e3fb3c72a3e4f840b447628...\n",
       "3    29a58f30d47f92089090a6947b3066e93e4f840b447628...\n",
       "4    5297a0beb4614f85ac42bc715e48869d3e4f840b447628...\n",
       "Name: sdesc, dtype: object"
      ]
     },
     "execution_count": 26,
     "metadata": {},
     "output_type": "execute_result"
    }
   ],
   "source": [
    "df['sdesc'] = df.id + df.associated_to\n",
    "df.sdesc.head()"
   ]
  },
  {
   "cell_type": "markdown",
   "metadata": {},
   "source": [
    "Now we can sort the data by both this new field and the `seentime`, so we obtain some kind of time series with the multiple actions that a user has performed and their locations."
   ]
  },
  {
   "cell_type": "code",
   "execution_count": 27,
   "metadata": {
    "collapsed": false,
    "deletable": true,
    "editable": true
   },
   "outputs": [],
   "source": [
    "df = df.sort_values(['sdesc', 'seentime']).copy()  # Let's copy it over to avoid future slice modification warnings"
   ]
  },
  {
   "cell_type": "code",
   "execution_count": 28,
   "metadata": {
    "collapsed": false,
    "deletable": true,
    "editable": true
   },
   "outputs": [
    {
     "data": {
      "text/html": [
       "<div>\n",
       "<table border=\"1\" class=\"dataframe\">\n",
       "  <thead>\n",
       "    <tr style=\"text-align: right;\">\n",
       "      <th></th>\n",
       "      <th>id</th>\n",
       "      <th>associated_to</th>\n",
       "      <th>seentime</th>\n",
       "    </tr>\n",
       "  </thead>\n",
       "  <tbody>\n",
       "    <tr>\n",
       "      <th>86770</th>\n",
       "      <td>0000dccc86a6bb51b8d7b402c431f5eb</td>\n",
       "      <td>07a05f6e8c70b41d6d13f6f88054db5b</td>\n",
       "      <td>2017-05-02 12:16:41</td>\n",
       "    </tr>\n",
       "    <tr>\n",
       "      <th>55460</th>\n",
       "      <td>0002c6f05956f2519af4c9e199e0bfc8</td>\n",
       "      <td>0cac08e67d3f8ae879557d73dfbf90a5</td>\n",
       "      <td>2017-05-01 23:43:20</td>\n",
       "    </tr>\n",
       "    <tr>\n",
       "      <th>55459</th>\n",
       "      <td>0002c6f05956f2519af4c9e199e0bfc8</td>\n",
       "      <td>0cac08e67d3f8ae879557d73dfbf90a5</td>\n",
       "      <td>2017-05-01 23:52:14</td>\n",
       "    </tr>\n",
       "    <tr>\n",
       "      <th>25942</th>\n",
       "      <td>0002c6f05956f2519af4c9e199e0bfc8</td>\n",
       "      <td>6a09781f67155f0c71c855cf48ece270</td>\n",
       "      <td>2017-05-01 23:31:24</td>\n",
       "    </tr>\n",
       "    <tr>\n",
       "      <th>52402</th>\n",
       "      <td>000a2ff1fda225935077176ba66e9244</td>\n",
       "      <td>fdf60b72023ab24d41a7a3c050f06866</td>\n",
       "      <td>2017-05-02 05:14:07</td>\n",
       "    </tr>\n",
       "    <tr>\n",
       "      <th>75141</th>\n",
       "      <td>000a2ff1fda225935077176ba66e9244</td>\n",
       "      <td>fdf60b72023ab24d41a7a3c050f06866</td>\n",
       "      <td>2017-05-02 05:16:04</td>\n",
       "    </tr>\n",
       "    <tr>\n",
       "      <th>91338</th>\n",
       "      <td>00159430f5c3dad3c09d9808fe082f02</td>\n",
       "      <td>1e01eb70ac237f308bbc9be7959a3116</td>\n",
       "      <td>2017-05-02 19:42:36</td>\n",
       "    </tr>\n",
       "    <tr>\n",
       "      <th>91224</th>\n",
       "      <td>00159430f5c3dad3c09d9808fe082f02</td>\n",
       "      <td>1e01eb70ac237f308bbc9be7959a3116</td>\n",
       "      <td>2017-05-02 20:27:33</td>\n",
       "    </tr>\n",
       "    <tr>\n",
       "      <th>58665</th>\n",
       "      <td>001608e4520f3f7a6885b1852dc7679b</td>\n",
       "      <td>6079bb04d578ba5eb979c3657c860501</td>\n",
       "      <td>2017-05-02 16:30:28</td>\n",
       "    </tr>\n",
       "    <tr>\n",
       "      <th>45742</th>\n",
       "      <td>0017eb302c4645b1387bb7fe18a72a64</td>\n",
       "      <td>f1fd8bcdd7e179c1e2ea7e2d115b4388</td>\n",
       "      <td>2017-05-02 12:03:10</td>\n",
       "    </tr>\n",
       "  </tbody>\n",
       "</table>\n",
       "</div>"
      ],
      "text/plain": [
       "                                     id                     associated_to  \\\n",
       "86770  0000dccc86a6bb51b8d7b402c431f5eb  07a05f6e8c70b41d6d13f6f88054db5b   \n",
       "55460  0002c6f05956f2519af4c9e199e0bfc8  0cac08e67d3f8ae879557d73dfbf90a5   \n",
       "55459  0002c6f05956f2519af4c9e199e0bfc8  0cac08e67d3f8ae879557d73dfbf90a5   \n",
       "25942  0002c6f05956f2519af4c9e199e0bfc8  6a09781f67155f0c71c855cf48ece270   \n",
       "52402  000a2ff1fda225935077176ba66e9244  fdf60b72023ab24d41a7a3c050f06866   \n",
       "75141  000a2ff1fda225935077176ba66e9244  fdf60b72023ab24d41a7a3c050f06866   \n",
       "91338  00159430f5c3dad3c09d9808fe082f02  1e01eb70ac237f308bbc9be7959a3116   \n",
       "91224  00159430f5c3dad3c09d9808fe082f02  1e01eb70ac237f308bbc9be7959a3116   \n",
       "58665  001608e4520f3f7a6885b1852dc7679b  6079bb04d578ba5eb979c3657c860501   \n",
       "45742  0017eb302c4645b1387bb7fe18a72a64  f1fd8bcdd7e179c1e2ea7e2d115b4388   \n",
       "\n",
       "                 seentime  \n",
       "86770 2017-05-02 12:16:41  \n",
       "55460 2017-05-01 23:43:20  \n",
       "55459 2017-05-01 23:52:14  \n",
       "25942 2017-05-01 23:31:24  \n",
       "52402 2017-05-02 05:14:07  \n",
       "75141 2017-05-02 05:16:04  \n",
       "91338 2017-05-02 19:42:36  \n",
       "91224 2017-05-02 20:27:33  \n",
       "58665 2017-05-02 16:30:28  \n",
       "45742 2017-05-02 12:03:10  "
      ]
     },
     "execution_count": 28,
     "metadata": {},
     "output_type": "execute_result"
    }
   ],
   "source": [
    "df[['id', 'associated_to', 'seentime']].head(10)"
   ]
  },
  {
   "cell_type": "markdown",
   "metadata": {},
   "source": [
    "Now we will identify whenever the sdesc value changes using the almighty `.shift` method."
   ]
  },
  {
   "cell_type": "code",
   "execution_count": 29,
   "metadata": {
    "collapsed": false,
    "deletable": true,
    "editable": true
   },
   "outputs": [
    {
     "data": {
      "text/plain": [
       "86770    0000dccc86a6bb51b8d7b402c431f5eb07a05f6e8c70b4...\n",
       "55460    0002c6f05956f2519af4c9e199e0bfc80cac08e67d3f8a...\n",
       "55459    0002c6f05956f2519af4c9e199e0bfc80cac08e67d3f8a...\n",
       "25942    0002c6f05956f2519af4c9e199e0bfc86a09781f67155f...\n",
       "52402    000a2ff1fda225935077176ba66e9244fdf60b72023ab2...\n",
       "Name: sdesc, dtype: object"
      ]
     },
     "execution_count": 29,
     "metadata": {},
     "output_type": "execute_result"
    }
   ],
   "source": [
    "df.sdesc.head()"
   ]
  },
  {
   "cell_type": "code",
   "execution_count": 30,
   "metadata": {
    "collapsed": false,
    "deletable": true,
    "editable": true
   },
   "outputs": [
    {
     "data": {
      "text/plain": [
       "86770                                                  NaN\n",
       "55460    0000dccc86a6bb51b8d7b402c431f5eb07a05f6e8c70b4...\n",
       "55459    0002c6f05956f2519af4c9e199e0bfc80cac08e67d3f8a...\n",
       "25942    0002c6f05956f2519af4c9e199e0bfc80cac08e67d3f8a...\n",
       "52402    0002c6f05956f2519af4c9e199e0bfc86a09781f67155f...\n",
       "Name: sdesc, dtype: object"
      ]
     },
     "execution_count": 30,
     "metadata": {},
     "output_type": "execute_result"
    }
   ],
   "source": [
    "df.sdesc.head().shift(1)"
   ]
  },
  {
   "cell_type": "code",
   "execution_count": 31,
   "metadata": {
    "collapsed": false,
    "deletable": true,
    "editable": true
   },
   "outputs": [
    {
     "data": {
      "text/plain": [
       "86770     True\n",
       "55460     True\n",
       "55459    False\n",
       "25942     True\n",
       "52402     True\n",
       "Name: sdesc, dtype: bool"
      ]
     },
     "execution_count": 31,
     "metadata": {},
     "output_type": "execute_result"
    }
   ],
   "source": [
    "(df.sdesc.shift(1) != df.sdesc).head()"
   ]
  },
  {
   "cell_type": "markdown",
   "metadata": {},
   "source": [
    "And finally we `cumsum` the boolean values and we get: A unique identifier for Session!"
   ]
  },
  {
   "cell_type": "code",
   "execution_count": 32,
   "metadata": {
    "collapsed": false,
    "deletable": true,
    "editable": true
   },
   "outputs": [
    {
     "data": {
      "text/plain": [
       "86770    1\n",
       "55460    2\n",
       "55459    2\n",
       "25942    3\n",
       "52402    4\n",
       "Name: sdesc, dtype: int64"
      ]
     },
     "execution_count": 32,
     "metadata": {},
     "output_type": "execute_result"
    }
   ],
   "source": [
    "(df.sdesc.shift(1) != df.sdesc).cumsum().head()"
   ]
  },
  {
   "cell_type": "code",
   "execution_count": 33,
   "metadata": {
    "collapsed": false,
    "deletable": true,
    "editable": true
   },
   "outputs": [],
   "source": [
    "df['session'] = (df.sdesc.shift(1) != df.sdesc).cumsum()"
   ]
  },
  {
   "cell_type": "code",
   "execution_count": 34,
   "metadata": {
    "collapsed": false,
    "deletable": true,
    "editable": true
   },
   "outputs": [
    {
     "data": {
      "text/html": [
       "<div>\n",
       "<table border=\"1\" class=\"dataframe\">\n",
       "  <thead>\n",
       "    <tr style=\"text-align: right;\">\n",
       "      <th></th>\n",
       "      <th>id</th>\n",
       "      <th>associated_to</th>\n",
       "      <th>seentime</th>\n",
       "      <th>session</th>\n",
       "    </tr>\n",
       "  </thead>\n",
       "  <tbody>\n",
       "    <tr>\n",
       "      <th>86770</th>\n",
       "      <td>0000dccc86a6bb51b8d7b402c431f5eb</td>\n",
       "      <td>07a05f6e8c70b41d6d13f6f88054db5b</td>\n",
       "      <td>2017-05-02 12:16:41</td>\n",
       "      <td>1</td>\n",
       "    </tr>\n",
       "    <tr>\n",
       "      <th>55460</th>\n",
       "      <td>0002c6f05956f2519af4c9e199e0bfc8</td>\n",
       "      <td>0cac08e67d3f8ae879557d73dfbf90a5</td>\n",
       "      <td>2017-05-01 23:43:20</td>\n",
       "      <td>2</td>\n",
       "    </tr>\n",
       "    <tr>\n",
       "      <th>55459</th>\n",
       "      <td>0002c6f05956f2519af4c9e199e0bfc8</td>\n",
       "      <td>0cac08e67d3f8ae879557d73dfbf90a5</td>\n",
       "      <td>2017-05-01 23:52:14</td>\n",
       "      <td>2</td>\n",
       "    </tr>\n",
       "    <tr>\n",
       "      <th>25942</th>\n",
       "      <td>0002c6f05956f2519af4c9e199e0bfc8</td>\n",
       "      <td>6a09781f67155f0c71c855cf48ece270</td>\n",
       "      <td>2017-05-01 23:31:24</td>\n",
       "      <td>3</td>\n",
       "    </tr>\n",
       "    <tr>\n",
       "      <th>52402</th>\n",
       "      <td>000a2ff1fda225935077176ba66e9244</td>\n",
       "      <td>fdf60b72023ab24d41a7a3c050f06866</td>\n",
       "      <td>2017-05-02 05:14:07</td>\n",
       "      <td>4</td>\n",
       "    </tr>\n",
       "    <tr>\n",
       "      <th>75141</th>\n",
       "      <td>000a2ff1fda225935077176ba66e9244</td>\n",
       "      <td>fdf60b72023ab24d41a7a3c050f06866</td>\n",
       "      <td>2017-05-02 05:16:04</td>\n",
       "      <td>4</td>\n",
       "    </tr>\n",
       "    <tr>\n",
       "      <th>91338</th>\n",
       "      <td>00159430f5c3dad3c09d9808fe082f02</td>\n",
       "      <td>1e01eb70ac237f308bbc9be7959a3116</td>\n",
       "      <td>2017-05-02 19:42:36</td>\n",
       "      <td>5</td>\n",
       "    </tr>\n",
       "    <tr>\n",
       "      <th>91224</th>\n",
       "      <td>00159430f5c3dad3c09d9808fe082f02</td>\n",
       "      <td>1e01eb70ac237f308bbc9be7959a3116</td>\n",
       "      <td>2017-05-02 20:27:33</td>\n",
       "      <td>5</td>\n",
       "    </tr>\n",
       "    <tr>\n",
       "      <th>58665</th>\n",
       "      <td>001608e4520f3f7a6885b1852dc7679b</td>\n",
       "      <td>6079bb04d578ba5eb979c3657c860501</td>\n",
       "      <td>2017-05-02 16:30:28</td>\n",
       "      <td>6</td>\n",
       "    </tr>\n",
       "    <tr>\n",
       "      <th>45742</th>\n",
       "      <td>0017eb302c4645b1387bb7fe18a72a64</td>\n",
       "      <td>f1fd8bcdd7e179c1e2ea7e2d115b4388</td>\n",
       "      <td>2017-05-02 12:03:10</td>\n",
       "      <td>7</td>\n",
       "    </tr>\n",
       "  </tbody>\n",
       "</table>\n",
       "</div>"
      ],
      "text/plain": [
       "                                     id                     associated_to  \\\n",
       "86770  0000dccc86a6bb51b8d7b402c431f5eb  07a05f6e8c70b41d6d13f6f88054db5b   \n",
       "55460  0002c6f05956f2519af4c9e199e0bfc8  0cac08e67d3f8ae879557d73dfbf90a5   \n",
       "55459  0002c6f05956f2519af4c9e199e0bfc8  0cac08e67d3f8ae879557d73dfbf90a5   \n",
       "25942  0002c6f05956f2519af4c9e199e0bfc8  6a09781f67155f0c71c855cf48ece270   \n",
       "52402  000a2ff1fda225935077176ba66e9244  fdf60b72023ab24d41a7a3c050f06866   \n",
       "75141  000a2ff1fda225935077176ba66e9244  fdf60b72023ab24d41a7a3c050f06866   \n",
       "91338  00159430f5c3dad3c09d9808fe082f02  1e01eb70ac237f308bbc9be7959a3116   \n",
       "91224  00159430f5c3dad3c09d9808fe082f02  1e01eb70ac237f308bbc9be7959a3116   \n",
       "58665  001608e4520f3f7a6885b1852dc7679b  6079bb04d578ba5eb979c3657c860501   \n",
       "45742  0017eb302c4645b1387bb7fe18a72a64  f1fd8bcdd7e179c1e2ea7e2d115b4388   \n",
       "\n",
       "                 seentime  session  \n",
       "86770 2017-05-02 12:16:41        1  \n",
       "55460 2017-05-01 23:43:20        2  \n",
       "55459 2017-05-01 23:52:14        2  \n",
       "25942 2017-05-01 23:31:24        3  \n",
       "52402 2017-05-02 05:14:07        4  \n",
       "75141 2017-05-02 05:16:04        4  \n",
       "91338 2017-05-02 19:42:36        5  \n",
       "91224 2017-05-02 20:27:33        5  \n",
       "58665 2017-05-02 16:30:28        6  \n",
       "45742 2017-05-02 12:03:10        7  "
      ]
     },
     "execution_count": 34,
     "metadata": {},
     "output_type": "execute_result"
    }
   ],
   "source": [
    "df[['id', 'associated_to', 'seentime', 'session']].head(10)"
   ]
  },
  {
   "cell_type": "markdown",
   "metadata": {},
   "source": [
    " And now we only need to join the sdesc and the id fields and count the values!"
   ]
  },
  {
   "cell_type": "code",
   "execution_count": 35,
   "metadata": {
    "collapsed": false
   },
   "outputs": [
    {
     "data": {
      "text/plain": [
       "5eb91852ca4bc9802f93990022b0b2049f7b7a1e7842298c37315c589476bad520614    114\n",
       "cf735a9fe55748f84c6f4b9a9e011ed9b52b69e672d43215041e62f21190d62544549    110\n",
       "3929bf7b1c852963f7354fabf0943a8de2d17c7c89e9e075cf009356655f606112371    108\n",
       "76766ace066c92c6bc5a162cec3893314fc3fc8494f8cfd577ccbd7c9905c12825692    101\n",
       "c66c770f2a2e72a4c6f71e1f48ebe999cb19064bab4830ca51d8d5325c57574242698    100\n",
       "59888da14f8bbe15a3a22e338439859acb19064bab4830ca51d8d5325c57574219496    100\n",
       "ae7b704a294baa6d1eccf50eb6b7dd0f32dc6782ef27f2cfbdece7d84a08329e37458     96\n",
       "ef614a631db652f2a67168cc270ce7a66b525f4671d53233b975084172adeca351335     92\n",
       "ae7b704a294baa6d1eccf50eb6b7dd0f59016f229aaadb8caab16204b85f4d1437463     90\n",
       "ef614a631db652f2a67168cc270ce7a65b575d17a8cf273f2c5436c65e6b2f5751333     88\n",
       "dtype: int64"
      ]
     },
     "execution_count": 35,
     "metadata": {},
     "output_type": "execute_result"
    }
   ],
   "source": [
    "(df['sdesc'] + df['session'].astype(str)).value_counts().head(10)"
   ]
  },
  {
   "cell_type": "markdown",
   "metadata": {
    "deletable": true,
    "editable": true
   },
   "source": [
    "<div style=\"float:right\">\n",
    "<img src=\"img/kfpandas-goodbye.jpg\" style=\"width: 400px;\">\n",
    "</div>\n",
    "<h1 style=\"text-align:center\">Thank You!</h1>"
   ]
  }
 ],
 "metadata": {
  "kernelspec": {
   "display_name": "Python 3",
   "language": "python",
   "name": "python3"
  },
  "language_info": {
   "codemirror_mode": {
    "name": "ipython",
    "version": 3
   },
   "file_extension": ".py",
   "mimetype": "text/x-python",
   "name": "python",
   "nbconvert_exporter": "python",
   "pygments_lexer": "ipython3",
   "version": "3.5.2"
  }
 },
 "nbformat": 4,
 "nbformat_minor": 2
}
